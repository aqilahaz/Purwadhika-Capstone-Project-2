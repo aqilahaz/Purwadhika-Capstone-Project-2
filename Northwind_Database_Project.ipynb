{
  "cells": [
    {
      "cell_type": "markdown",
      "metadata": {
        "id": "9NUObvHjv3EK"
      },
      "source": [
        "##**DATA UNDERSTANDING**"
      ]
    },
    {
      "cell_type": "markdown",
      "metadata": {
        "id": "z5Tq0akLwCCd"
      },
      "source": [
        "## **Konteks**"
      ]
    },
    {
      "cell_type": "markdown",
      "metadata": {
        "id": "K5Xu7TP1wnvK"
      },
      "source": [
        "Database Northwind berisi data sales dari perusahaan fiktif bernama \"Northwind Traders\" yang berperan sebagai perusahaan impor/ekspor makanan di seluruh dunia. Database ini merupakan ERP bisnis kecil dengan table customers, orders, inventory, purchasing, supplier, shipping, employee dan akuntansi pintu tunggal."
      ]
    },
    {
      "cell_type": "markdown",
      "metadata": {
        "id": "BkmFKHvOxYZW"
      },
      "source": [
        "## **Database Information**"
      ]
    },
    {
      "cell_type": "markdown",
      "metadata": {
        "id": "Fvp4xQWFxcUW"
      },
      "source": [
        "Sumber Database: https://drive.google.com/drive/folders/1fTHrwh_gcLsOFKXHnUzUGEu_APxLoD9i\n",
        "\n",
        "Database yang dimiliki mempunyai 13 tabel, yaitu:\n",
        "\n",
        "\n",
        "*   Categories : menyimpan informasi tentang kategori barang yang dijual\n",
        "*   Customercustomerdemo : data kosong. Tidak menyimpan informasi apa-apa.\n",
        "*   Customerdemographics : data kosong. Tidak menyimpan informasi apa-apa.\n",
        "*   Customers : menyimpan informasi tentang data pelanggan/customer\n",
        "*   Employees : menyimpan informasi tentang data pegawai\n",
        "*   Employeeterritories: menyimpan informasi soal karyawan dan wilayah kerjanya\n",
        "*   Orderdetails: menyimpan detail dari pesanan yang dipesan pelanggan\n",
        "*   Orders : menyimpan informasi jual beli yang dilakukan oleh pelanggan\n",
        "*   Products: menyimpan informasi tentang produk makanan yang dijual\n",
        "*   Region: menyimpan data region\n",
        "*   Shippers: menyimpan data perusahaan yang melakukan jasa pengiriman \n",
        "*   Suppliers: menyimpan data supplier di seluruh dunia yang beraffiliasi dengan perusahaan\n",
        "*   Territories: menyimpan data detail mengenai territory dan regionnya\n",
        "\n",
        "\n",
        "\n"
      ]
    },
    {
      "cell_type": "markdown",
      "metadata": {
        "id": "cW2iHU630bMT"
      },
      "source": [
        "##Content\n",
        "\n",
        "\n",
        "1.   Database \n",
        "    * Connecting to Database\n",
        "    * Data Detail dan Keuntungan Transaksi Tiap Supplier\n",
        "    * Data Supplier dan Revenue\n",
        "\n",
        "2.   Data Manipulation\n",
        "    * Check Anomalies\n",
        "    * Melihat Data Sekilas dari General Info\n",
        "    * Missing Value\n",
        "    * Format Data\n",
        "    * Processing Date\n",
        "    * Anomali pada Data ```RestUnits```\n",
        "    * General info on Cleaned Data\n",
        "    * Outlier\n",
        "3. Data Visualization\n",
        "4. Statistics\n",
        "\n"
      ]
    },
    {
      "cell_type": "markdown",
      "metadata": {
        "id": "jQ32Enno1AcX"
      },
      "source": [
        "## **DATABASE**"
      ]
    },
    {
      "cell_type": "markdown",
      "metadata": {
        "id": "uMd05Frs1OrD"
      },
      "source": [
        "## Connecting to Database"
      ]
    },
    {
      "cell_type": "markdown",
      "metadata": {
        "id": "AWVD1lx11XXU"
      },
      "source": [
        "Bagian ini merupakan awal untuk analisa data. Pertama adalah membuat koneksi ke database. Database yang digunakan adalah ```Northwind``` . Dengan melakukan koneksi ini, kita dapat melihat seluruh data yang ada di tabel database.\n",
        "\n"
      ]
    },
    {
      "cell_type": "code",
      "execution_count": null,
      "metadata": {
        "id": "cxiRTWgw1uUf"
      },
      "outputs": [],
      "source": [
        "#Import Libraries\n",
        "\n",
        "import pandas as pd\n",
        "import numpy as np\n",
        "import mysql.connector as sql\n",
        "\n",
        "# Data Visualization\n",
        "import seaborn as sns\n",
        "import matplotlib.pyplot as plt"
      ]
    },
    {
      "cell_type": "code",
      "execution_count": null,
      "metadata": {
        "id": "LIGx2Hb3183M"
      },
      "outputs": [],
      "source": [
        "# Connect To Database\n",
        "\n",
        "mydb = sql.connect(\n",
        "    host = 'localhost',\n",
        "    user = 'root',\n",
        "    passwd = 'root',\n",
        "    database = 'northwind'\n",
        ")"
      ]
    },
    {
      "cell_type": "markdown",
      "metadata": {
        "id": "O6-DDqMKJuVU"
      },
      "source": [
        "Selain melakukan koneksi, hal lain yang perlu dilakukan adalah membuat fungsi untuk melakukan query ke database kemudian mengekspornya ke dalam bentuk pandas Dataframe. Tujuannya adalah supaya hasil ```query``` dapat disimpan dan digunakan untuk menganalisis data. Nantinya terdapat dua ```query``` untuk mengambil data di database dari berbagai tabel."
      ]
    },
    {
      "cell_type": "code",
      "execution_count": null,
      "metadata": {
        "id": "aK-TzFZ5JpGh"
      },
      "outputs": [],
      "source": [
        "# Query Function\n",
        "\n",
        "curs = mydb.cursor()\n",
        "\n",
        "def make_sql (query) :\n",
        "    curs.execute (query)\n",
        "    result = curs.fetchall()\n",
        "    tabel = pd.DataFrame(result, columns=curs.column_names)\n",
        "    return tabel"
      ]
    },
    {
      "cell_type": "markdown",
      "metadata": {
        "id": "qf3NYH0KKXEK"
      },
      "source": [
        "## Data Detail dan Keuntungan Transaksi Tiap Supplier"
      ]
    },
    {
      "cell_type": "markdown",
      "metadata": {
        "id": "rgaGb5vwKqsg"
      },
      "source": [
        "Data ini merupakan data utama yang akan dianalisa lebih lanjut. Data ini merupakan gabungan dari 5 tabel yakni, ```supplier, products, orderdetails, orders``` dan ```categories```. Masing-masing diambil beberapa kolom yang penting. Informasi yang diambil antara lain:\n",
        "\n",
        "\n",
        "*   SupplierID dari tabel suppliers\n",
        "* CompanyName dari tabel suppliers\n",
        "* ContactName dari tabel suppliers\n",
        "* Region dari tabel suppliers\n",
        "*Country dari tabel suppliers\n",
        "* ProductID dari tabel products\n",
        "* CategoryID dari tabel products\n",
        "* CategoryName dari tabel categories\n",
        "* ProductName dari tabel products\n",
        "* UnitPrice dari tabel products\n",
        "* UnitsinStock dari tabel products\n",
        "* UnitsOnOrder dari tabel products\n",
        "* Discontinued dari tabel products\n",
        "* OrderID dari tabel orderdetails\n",
        "* Discount dari tabel orderdetails\n",
        "* OrderDate dari tabel orders\n",
        "* ShippedDate dari tabel orders\n",
        "* ShipCountry dari tabel orders\n",
        "* ShipVia dari tabel orders\n",
        "\n",
        "Selain dari tabel, juga digenerate kolom baru bernama RestUnits dari selisih Stok dan Unit yang diorder. Adapun Revenue didapatkan dari harga tiap unit dikali jumlah kuantitas yang dipesan. Disini dibulatkan dua angka dibelakang koma.\n",
        "\n",
        "Semua informasi kemudian diubah dalam bentuk pandas Dataframe untuk kemudian dilakukan analisis.\n",
        "\n"
      ]
    },
    {
      "cell_type": "code",
      "execution_count": null,
      "metadata": {
        "id": "tnCXvUQyJpGh"
      },
      "outputs": [],
      "source": [
        "table = make_sql(\n",
        "    \"\"\"\n",
        "    select s.SupplierID, s.CompanyName, s.ContactName, s.Region, \n",
        "    s.Country, p.ProductID, p.CategoryID, c.CategoryName,p.ProductName, p.UnitPrice, p.UnitsInStock, p.UnitsOnOrder,\n",
        "    (p.UnitsInStock- p.UnitsOnOrder) RestUnits,round((p.UnitPrice*od.Quantity),2) \"Revenue\", p.Discontinued, od.OrderID, od.Discount,\n",
        "    o.OrderDate, o.ShippedDate, o.ShipCountry,o.ShipVia\n",
        "    from suppliers s\n",
        "    LEFT JOIN products p on s.SupplierID = p.SupplierID\n",
        "    LEFT JOIN orderdetails od on od.ProductID = p.ProductID \n",
        "    LEFT JOIN orders o on o.OrderID = od.OrderID\n",
        "    LEFT JOIN categories c on p.CategoryID = c.CategoryID\n",
        "    \"\"\"\n",
        ")"
      ]
    },
    {
      "cell_type": "code",
      "execution_count": null,
      "metadata": {
        "id": "JoVjLC3IJpGi",
        "outputId": "69a65074-4c4b-443b-c77c-7fce9c6a1309"
      },
      "outputs": [
        {
          "data": {
            "text/html": [
              "<div>\n",
              "<style scoped>\n",
              "    .dataframe tbody tr th:only-of-type {\n",
              "        vertical-align: middle;\n",
              "    }\n",
              "\n",
              "    .dataframe tbody tr th {\n",
              "        vertical-align: top;\n",
              "    }\n",
              "\n",
              "    .dataframe thead th {\n",
              "        text-align: right;\n",
              "    }\n",
              "</style>\n",
              "<table border=\"1\" class=\"dataframe\">\n",
              "  <thead>\n",
              "    <tr style=\"text-align: right;\">\n",
              "      <th></th>\n",
              "      <th>SupplierID</th>\n",
              "      <th>CompanyName</th>\n",
              "      <th>ContactName</th>\n",
              "      <th>Region</th>\n",
              "      <th>Country</th>\n",
              "      <th>ProductID</th>\n",
              "      <th>CategoryID</th>\n",
              "      <th>CategoryName</th>\n",
              "      <th>ProductName</th>\n",
              "      <th>UnitPrice</th>\n",
              "      <th>...</th>\n",
              "      <th>UnitsOnOrder</th>\n",
              "      <th>RestUnits</th>\n",
              "      <th>Revenue</th>\n",
              "      <th>Discontinued</th>\n",
              "      <th>OrderID</th>\n",
              "      <th>Discount</th>\n",
              "      <th>OrderDate</th>\n",
              "      <th>ShippedDate</th>\n",
              "      <th>ShipCountry</th>\n",
              "      <th>ShipVia</th>\n",
              "    </tr>\n",
              "  </thead>\n",
              "  <tbody>\n",
              "    <tr>\n",
              "      <th>0</th>\n",
              "      <td>1</td>\n",
              "      <td>Exotic Liquids</td>\n",
              "      <td>Charlotte Cooper</td>\n",
              "      <td>None</td>\n",
              "      <td>UK</td>\n",
              "      <td>1</td>\n",
              "      <td>1</td>\n",
              "      <td>Beverages</td>\n",
              "      <td>Chai</td>\n",
              "      <td>18.0000</td>\n",
              "      <td>...</td>\n",
              "      <td>0</td>\n",
              "      <td>39</td>\n",
              "      <td>810.00</td>\n",
              "      <td>0</td>\n",
              "      <td>10285</td>\n",
              "      <td>0.0</td>\n",
              "      <td>1996-08-20</td>\n",
              "      <td>1996-08-26</td>\n",
              "      <td>Germany</td>\n",
              "      <td>2</td>\n",
              "    </tr>\n",
              "    <tr>\n",
              "      <th>1</th>\n",
              "      <td>1</td>\n",
              "      <td>Exotic Liquids</td>\n",
              "      <td>Charlotte Cooper</td>\n",
              "      <td>None</td>\n",
              "      <td>UK</td>\n",
              "      <td>1</td>\n",
              "      <td>1</td>\n",
              "      <td>Beverages</td>\n",
              "      <td>Chai</td>\n",
              "      <td>18.0000</td>\n",
              "      <td>...</td>\n",
              "      <td>0</td>\n",
              "      <td>39</td>\n",
              "      <td>324.00</td>\n",
              "      <td>0</td>\n",
              "      <td>10294</td>\n",
              "      <td>0.0</td>\n",
              "      <td>1996-08-30</td>\n",
              "      <td>1996-09-05</td>\n",
              "      <td>USA</td>\n",
              "      <td>2</td>\n",
              "    </tr>\n",
              "    <tr>\n",
              "      <th>2</th>\n",
              "      <td>1</td>\n",
              "      <td>Exotic Liquids</td>\n",
              "      <td>Charlotte Cooper</td>\n",
              "      <td>None</td>\n",
              "      <td>UK</td>\n",
              "      <td>1</td>\n",
              "      <td>1</td>\n",
              "      <td>Beverages</td>\n",
              "      <td>Chai</td>\n",
              "      <td>18.0000</td>\n",
              "      <td>...</td>\n",
              "      <td>0</td>\n",
              "      <td>39</td>\n",
              "      <td>360.00</td>\n",
              "      <td>0</td>\n",
              "      <td>10317</td>\n",
              "      <td>0.0</td>\n",
              "      <td>1996-09-30</td>\n",
              "      <td>1996-10-10</td>\n",
              "      <td>USA</td>\n",
              "      <td>1</td>\n",
              "    </tr>\n",
              "    <tr>\n",
              "      <th>3</th>\n",
              "      <td>1</td>\n",
              "      <td>Exotic Liquids</td>\n",
              "      <td>Charlotte Cooper</td>\n",
              "      <td>None</td>\n",
              "      <td>UK</td>\n",
              "      <td>1</td>\n",
              "      <td>1</td>\n",
              "      <td>Beverages</td>\n",
              "      <td>Chai</td>\n",
              "      <td>18.0000</td>\n",
              "      <td>...</td>\n",
              "      <td>0</td>\n",
              "      <td>39</td>\n",
              "      <td>270.00</td>\n",
              "      <td>0</td>\n",
              "      <td>10348</td>\n",
              "      <td>0.0</td>\n",
              "      <td>1996-11-07</td>\n",
              "      <td>1996-11-15</td>\n",
              "      <td>Germany</td>\n",
              "      <td>2</td>\n",
              "    </tr>\n",
              "    <tr>\n",
              "      <th>4</th>\n",
              "      <td>1</td>\n",
              "      <td>Exotic Liquids</td>\n",
              "      <td>Charlotte Cooper</td>\n",
              "      <td>None</td>\n",
              "      <td>UK</td>\n",
              "      <td>1</td>\n",
              "      <td>1</td>\n",
              "      <td>Beverages</td>\n",
              "      <td>Chai</td>\n",
              "      <td>18.0000</td>\n",
              "      <td>...</td>\n",
              "      <td>0</td>\n",
              "      <td>39</td>\n",
              "      <td>216.00</td>\n",
              "      <td>0</td>\n",
              "      <td>10354</td>\n",
              "      <td>0.0</td>\n",
              "      <td>1996-11-14</td>\n",
              "      <td>1996-11-20</td>\n",
              "      <td>Mexico</td>\n",
              "      <td>3</td>\n",
              "    </tr>\n",
              "  </tbody>\n",
              "</table>\n",
              "<p>5 rows × 21 columns</p>\n",
              "</div>"
            ],
            "text/plain": [
              "   SupplierID     CompanyName       ContactName Region Country  ProductID  \\\n",
              "0           1  Exotic Liquids  Charlotte Cooper   None      UK          1   \n",
              "1           1  Exotic Liquids  Charlotte Cooper   None      UK          1   \n",
              "2           1  Exotic Liquids  Charlotte Cooper   None      UK          1   \n",
              "3           1  Exotic Liquids  Charlotte Cooper   None      UK          1   \n",
              "4           1  Exotic Liquids  Charlotte Cooper   None      UK          1   \n",
              "\n",
              "   CategoryID CategoryName ProductName UnitPrice  ...  UnitsOnOrder  \\\n",
              "0           1    Beverages        Chai   18.0000  ...             0   \n",
              "1           1    Beverages        Chai   18.0000  ...             0   \n",
              "2           1    Beverages        Chai   18.0000  ...             0   \n",
              "3           1    Beverages        Chai   18.0000  ...             0   \n",
              "4           1    Beverages        Chai   18.0000  ...             0   \n",
              "\n",
              "   RestUnits  Revenue Discontinued  OrderID  Discount  OrderDate ShippedDate  \\\n",
              "0         39   810.00            0    10285       0.0 1996-08-20  1996-08-26   \n",
              "1         39   324.00            0    10294       0.0 1996-08-30  1996-09-05   \n",
              "2         39   360.00            0    10317       0.0 1996-09-30  1996-10-10   \n",
              "3         39   270.00            0    10348       0.0 1996-11-07  1996-11-15   \n",
              "4         39   216.00            0    10354       0.0 1996-11-14  1996-11-20   \n",
              "\n",
              "  ShipCountry ShipVia  \n",
              "0     Germany       2  \n",
              "1         USA       2  \n",
              "2         USA       1  \n",
              "3     Germany       2  \n",
              "4      Mexico       3  \n",
              "\n",
              "[5 rows x 21 columns]"
            ]
          },
          "execution_count": 5,
          "metadata": {},
          "output_type": "execute_result"
        }
      ],
      "source": [
        "table.head()"
      ]
    },
    {
      "cell_type": "markdown",
      "metadata": {
        "id": "IguWVRGyQ5P0"
      },
      "source": [
        "## Data Supplier dan Revenue"
      ]
    },
    {
      "cell_type": "markdown",
      "metadata": {
        "id": "vdbMg8S-RAV0"
      },
      "source": [
        "Berikut ini merupakan data yang dapat dijadikan informasi mengenai jumlah produk tiap supplier serta revenue yang didapat. Data ini memuat nama perusahaan Supplier, kategori produk yang dimiliki, kuantitas produk yang dimiliki, harga tiap unit, kuantitas yang dipesan, dan penghasilan yang didapat dari mengalikan harga tiap unit dengan kuantitas yang dipesan."
      ]
    },
    {
      "cell_type": "code",
      "execution_count": null,
      "metadata": {
        "id": "OHamK0qbJpGj",
        "outputId": "1f9a9fb1-aed7-407b-e18e-3a78b5b8e723"
      },
      "outputs": [
        {
          "data": {
            "text/html": [
              "<div>\n",
              "<style scoped>\n",
              "    .dataframe tbody tr th:only-of-type {\n",
              "        vertical-align: middle;\n",
              "    }\n",
              "\n",
              "    .dataframe tbody tr th {\n",
              "        vertical-align: top;\n",
              "    }\n",
              "\n",
              "    .dataframe thead th {\n",
              "        text-align: right;\n",
              "    }\n",
              "</style>\n",
              "<table border=\"1\" class=\"dataframe\">\n",
              "  <thead>\n",
              "    <tr style=\"text-align: right;\">\n",
              "      <th></th>\n",
              "      <th>Supplier Name</th>\n",
              "      <th>Category</th>\n",
              "      <th>Total Product</th>\n",
              "      <th>UnitPrice</th>\n",
              "      <th>Quantity</th>\n",
              "      <th>Revenue</th>\n",
              "    </tr>\n",
              "  </thead>\n",
              "  <tbody>\n",
              "    <tr>\n",
              "      <th>0</th>\n",
              "      <td>Exotic Liquids</td>\n",
              "      <td>Beverages</td>\n",
              "      <td>94</td>\n",
              "      <td>18.0000</td>\n",
              "      <td>45</td>\n",
              "      <td>810.00</td>\n",
              "    </tr>\n",
              "    <tr>\n",
              "      <th>1</th>\n",
              "      <td>New Orleans Cajun Delights</td>\n",
              "      <td>Condiments</td>\n",
              "      <td>70</td>\n",
              "      <td>22.0000</td>\n",
              "      <td>20</td>\n",
              "      <td>440.00</td>\n",
              "    </tr>\n",
              "    <tr>\n",
              "      <th>2</th>\n",
              "      <td>Grandma Kelly's Homestead</td>\n",
              "      <td>Condiments</td>\n",
              "      <td>54</td>\n",
              "      <td>25.0000</td>\n",
              "      <td>30</td>\n",
              "      <td>750.00</td>\n",
              "    </tr>\n",
              "    <tr>\n",
              "      <th>3</th>\n",
              "      <td>Tokyo Traders</td>\n",
              "      <td>Meat/Poultry</td>\n",
              "      <td>51</td>\n",
              "      <td>97.0000</td>\n",
              "      <td>20</td>\n",
              "      <td>1940.00</td>\n",
              "    </tr>\n",
              "    <tr>\n",
              "      <th>4</th>\n",
              "      <td>Cooperativa de Quesos 'Las Cabras'</td>\n",
              "      <td>Dairy Products</td>\n",
              "      <td>52</td>\n",
              "      <td>21.0000</td>\n",
              "      <td>12</td>\n",
              "      <td>252.00</td>\n",
              "    </tr>\n",
              "    <tr>\n",
              "      <th>5</th>\n",
              "      <td>Mayumi's</td>\n",
              "      <td>Seafood</td>\n",
              "      <td>68</td>\n",
              "      <td>6.0000</td>\n",
              "      <td>10</td>\n",
              "      <td>60.00</td>\n",
              "    </tr>\n",
              "    <tr>\n",
              "      <th>6</th>\n",
              "      <td>Pavlova, Ltd.</td>\n",
              "      <td>Confections</td>\n",
              "      <td>163</td>\n",
              "      <td>17.4500</td>\n",
              "      <td>35</td>\n",
              "      <td>610.75</td>\n",
              "    </tr>\n",
              "    <tr>\n",
              "      <th>7</th>\n",
              "      <td>Specialty Biscuits, Ltd.</td>\n",
              "      <td>Confections</td>\n",
              "      <td>126</td>\n",
              "      <td>9.2000</td>\n",
              "      <td>1</td>\n",
              "      <td>9.20</td>\n",
              "    </tr>\n",
              "    <tr>\n",
              "      <th>8</th>\n",
              "      <td>PB Knckebrd AB</td>\n",
              "      <td>Grains/Cereals</td>\n",
              "      <td>34</td>\n",
              "      <td>21.0000</td>\n",
              "      <td>6</td>\n",
              "      <td>126.00</td>\n",
              "    </tr>\n",
              "    <tr>\n",
              "      <th>9</th>\n",
              "      <td>Refrescos Americanas LTDA</td>\n",
              "      <td>Beverages</td>\n",
              "      <td>51</td>\n",
              "      <td>4.5000</td>\n",
              "      <td>15</td>\n",
              "      <td>67.50</td>\n",
              "    </tr>\n",
              "    <tr>\n",
              "      <th>10</th>\n",
              "      <td>Heli Swaren GmbH &amp; Co. KG</td>\n",
              "      <td>Confections</td>\n",
              "      <td>59</td>\n",
              "      <td>14.0000</td>\n",
              "      <td>4</td>\n",
              "      <td>56.00</td>\n",
              "    </tr>\n",
              "    <tr>\n",
              "      <th>11</th>\n",
              "      <td>Plutzer Lebensmittelgromrkte AG</td>\n",
              "      <td>Produce</td>\n",
              "      <td>179</td>\n",
              "      <td>45.6000</td>\n",
              "      <td>20</td>\n",
              "      <td>912.00</td>\n",
              "    </tr>\n",
              "    <tr>\n",
              "      <th>12</th>\n",
              "      <td>Nord-Ost-Fisch Handelsgesellschaft mbH</td>\n",
              "      <td>Seafood</td>\n",
              "      <td>32</td>\n",
              "      <td>25.8900</td>\n",
              "      <td>60</td>\n",
              "      <td>1553.40</td>\n",
              "    </tr>\n",
              "    <tr>\n",
              "      <th>13</th>\n",
              "      <td>Formaggi Fortini s.r.l.</td>\n",
              "      <td>Dairy Products</td>\n",
              "      <td>104</td>\n",
              "      <td>12.5000</td>\n",
              "      <td>20</td>\n",
              "      <td>250.00</td>\n",
              "    </tr>\n",
              "    <tr>\n",
              "      <th>14</th>\n",
              "      <td>Norske Meierier</td>\n",
              "      <td>Dairy Products</td>\n",
              "      <td>105</td>\n",
              "      <td>2.5000</td>\n",
              "      <td>25</td>\n",
              "      <td>62.50</td>\n",
              "    </tr>\n",
              "    <tr>\n",
              "      <th>15</th>\n",
              "      <td>Bigfoot Breweries</td>\n",
              "      <td>Beverages</td>\n",
              "      <td>65</td>\n",
              "      <td>14.0000</td>\n",
              "      <td>20</td>\n",
              "      <td>280.00</td>\n",
              "    </tr>\n",
              "    <tr>\n",
              "      <th>16</th>\n",
              "      <td>Svensk Sjfda AB</td>\n",
              "      <td>Seafood</td>\n",
              "      <td>51</td>\n",
              "      <td>19.0000</td>\n",
              "      <td>25</td>\n",
              "      <td>475.00</td>\n",
              "    </tr>\n",
              "    <tr>\n",
              "      <th>17</th>\n",
              "      <td>Aux joyeux ecclsiastiques</td>\n",
              "      <td>Beverages</td>\n",
              "      <td>54</td>\n",
              "      <td>263.5000</td>\n",
              "      <td>20</td>\n",
              "      <td>5270.00</td>\n",
              "    </tr>\n",
              "    <tr>\n",
              "      <th>18</th>\n",
              "      <td>New England Seafood Cannery</td>\n",
              "      <td>Seafood</td>\n",
              "      <td>88</td>\n",
              "      <td>18.4000</td>\n",
              "      <td>50</td>\n",
              "      <td>920.00</td>\n",
              "    </tr>\n",
              "    <tr>\n",
              "      <th>19</th>\n",
              "      <td>Leka Trading</td>\n",
              "      <td>Grains/Cereals</td>\n",
              "      <td>82</td>\n",
              "      <td>14.0000</td>\n",
              "      <td>10</td>\n",
              "      <td>140.00</td>\n",
              "    </tr>\n",
              "    <tr>\n",
              "      <th>20</th>\n",
              "      <td>Lyngbysild</td>\n",
              "      <td>Seafood</td>\n",
              "      <td>41</td>\n",
              "      <td>9.5000</td>\n",
              "      <td>15</td>\n",
              "      <td>142.50</td>\n",
              "    </tr>\n",
              "    <tr>\n",
              "      <th>21</th>\n",
              "      <td>Zaanse Snoepfabriek</td>\n",
              "      <td>Confections</td>\n",
              "      <td>27</td>\n",
              "      <td>9.5000</td>\n",
              "      <td>16</td>\n",
              "      <td>152.00</td>\n",
              "    </tr>\n",
              "    <tr>\n",
              "      <th>22</th>\n",
              "      <td>Karkki Oy</td>\n",
              "      <td>Confections</td>\n",
              "      <td>70</td>\n",
              "      <td>20.0000</td>\n",
              "      <td>40</td>\n",
              "      <td>800.00</td>\n",
              "    </tr>\n",
              "    <tr>\n",
              "      <th>23</th>\n",
              "      <td>G'day, Mate</td>\n",
              "      <td>Produce</td>\n",
              "      <td>98</td>\n",
              "      <td>53.0000</td>\n",
              "      <td>40</td>\n",
              "      <td>2120.00</td>\n",
              "    </tr>\n",
              "    <tr>\n",
              "      <th>24</th>\n",
              "      <td>Ma Maison</td>\n",
              "      <td>Meat/Poultry</td>\n",
              "      <td>69</td>\n",
              "      <td>7.4500</td>\n",
              "      <td>10</td>\n",
              "      <td>74.50</td>\n",
              "    </tr>\n",
              "    <tr>\n",
              "      <th>25</th>\n",
              "      <td>Pasta Buttini s.r.l.</td>\n",
              "      <td>Grains/Cereals</td>\n",
              "      <td>73</td>\n",
              "      <td>38.0000</td>\n",
              "      <td>2</td>\n",
              "      <td>76.00</td>\n",
              "    </tr>\n",
              "    <tr>\n",
              "      <th>26</th>\n",
              "      <td>Escargots Nouveaux</td>\n",
              "      <td>Seafood</td>\n",
              "      <td>18</td>\n",
              "      <td>13.2500</td>\n",
              "      <td>30</td>\n",
              "      <td>397.50</td>\n",
              "    </tr>\n",
              "    <tr>\n",
              "      <th>27</th>\n",
              "      <td>Gai pturage</td>\n",
              "      <td>Dairy Products</td>\n",
              "      <td>105</td>\n",
              "      <td>55.0000</td>\n",
              "      <td>30</td>\n",
              "      <td>1650.00</td>\n",
              "    </tr>\n",
              "    <tr>\n",
              "      <th>28</th>\n",
              "      <td>Forts d'rables</td>\n",
              "      <td>Condiments</td>\n",
              "      <td>72</td>\n",
              "      <td>28.5000</td>\n",
              "      <td>16</td>\n",
              "      <td>456.00</td>\n",
              "    </tr>\n",
              "  </tbody>\n",
              "</table>\n",
              "</div>"
            ],
            "text/plain": [
              "                             Supplier Name        Category  Total Product  \\\n",
              "0                           Exotic Liquids       Beverages             94   \n",
              "1               New Orleans Cajun Delights      Condiments             70   \n",
              "2                Grandma Kelly's Homestead      Condiments             54   \n",
              "3                            Tokyo Traders    Meat/Poultry             51   \n",
              "4       Cooperativa de Quesos 'Las Cabras'  Dairy Products             52   \n",
              "5                                 Mayumi's         Seafood             68   \n",
              "6                            Pavlova, Ltd.     Confections            163   \n",
              "7                 Specialty Biscuits, Ltd.     Confections            126   \n",
              "8                           PB Knckebrd AB  Grains/Cereals             34   \n",
              "9                Refrescos Americanas LTDA       Beverages             51   \n",
              "10               Heli Swaren GmbH & Co. KG     Confections             59   \n",
              "11         Plutzer Lebensmittelgromrkte AG         Produce            179   \n",
              "12  Nord-Ost-Fisch Handelsgesellschaft mbH         Seafood             32   \n",
              "13                 Formaggi Fortini s.r.l.  Dairy Products            104   \n",
              "14                         Norske Meierier  Dairy Products            105   \n",
              "15                       Bigfoot Breweries       Beverages             65   \n",
              "16                         Svensk Sjfda AB         Seafood             51   \n",
              "17               Aux joyeux ecclsiastiques       Beverages             54   \n",
              "18             New England Seafood Cannery         Seafood             88   \n",
              "19                            Leka Trading  Grains/Cereals             82   \n",
              "20                              Lyngbysild         Seafood             41   \n",
              "21                     Zaanse Snoepfabriek     Confections             27   \n",
              "22                               Karkki Oy     Confections             70   \n",
              "23                             G'day, Mate         Produce             98   \n",
              "24                               Ma Maison    Meat/Poultry             69   \n",
              "25                    Pasta Buttini s.r.l.  Grains/Cereals             73   \n",
              "26                      Escargots Nouveaux         Seafood             18   \n",
              "27                             Gai pturage  Dairy Products            105   \n",
              "28                          Forts d'rables      Condiments             72   \n",
              "\n",
              "   UnitPrice  Quantity  Revenue  \n",
              "0    18.0000        45   810.00  \n",
              "1    22.0000        20   440.00  \n",
              "2    25.0000        30   750.00  \n",
              "3    97.0000        20  1940.00  \n",
              "4    21.0000        12   252.00  \n",
              "5     6.0000        10    60.00  \n",
              "6    17.4500        35   610.75  \n",
              "7     9.2000         1     9.20  \n",
              "8    21.0000         6   126.00  \n",
              "9     4.5000        15    67.50  \n",
              "10   14.0000         4    56.00  \n",
              "11   45.6000        20   912.00  \n",
              "12   25.8900        60  1553.40  \n",
              "13   12.5000        20   250.00  \n",
              "14    2.5000        25    62.50  \n",
              "15   14.0000        20   280.00  \n",
              "16   19.0000        25   475.00  \n",
              "17  263.5000        20  5270.00  \n",
              "18   18.4000        50   920.00  \n",
              "19   14.0000        10   140.00  \n",
              "20    9.5000        15   142.50  \n",
              "21    9.5000        16   152.00  \n",
              "22   20.0000        40   800.00  \n",
              "23   53.0000        40  2120.00  \n",
              "24    7.4500        10    74.50  \n",
              "25   38.0000         2    76.00  \n",
              "26   13.2500        30   397.50  \n",
              "27   55.0000        30  1650.00  \n",
              "28   28.5000        16   456.00  "
            ]
          },
          "execution_count": 6,
          "metadata": {},
          "output_type": "execute_result"
        }
      ],
      "source": [
        "categories_table = make_sql(\n",
        "    \"\"\"\n",
        "    SELECT s.CompanyName as \"Supplier Name\",c.CategoryName as Category,\n",
        "    count(p.ProductName) \"Total Product\",\n",
        "    p.UnitPrice,\n",
        "    od.Quantity,\n",
        "    round((p.UnitPrice*od.Quantity),2) \"Revenue\"\n",
        "    FROM  products p\n",
        "    LEFT JOIN orderdetails od on od.ProductID = p.ProductID \n",
        "    LEFT JOIN suppliers s on s.SupplierID = p.SupplierID\n",
        "    LEFT JOIN categories c on p.CategoryID = c.CategoryID\n",
        "     group by s.CompanyName \n",
        "    \"\"\"\n",
        ")\n",
        "categories_table"
      ]
    },
    {
      "cell_type": "markdown",
      "source": [
        "## Data Order dengan Kategori"
      ],
      "metadata": {
        "id": "eE9Y9YiKooZn"
      }
    },
    {
      "cell_type": "code",
      "execution_count": null,
      "metadata": {
        "id": "OqQ25qZ1odeM"
      },
      "outputs": [],
      "source": [
        "df3 = make_sql('''\n",
        "    SELECT o.orderID, p.ProductName, od.Discount, od.Quantity, cat.CategoryName, \n",
        "            cust.City, cust.Country\n",
        "    FROM orders as o\n",
        "    JOIN Customers as cust\n",
        "        ON o.CustomerID = cust.CustomerID\n",
        "    JOIN orderdetails as od\n",
        "        ON o.orderID =  od.orderId\n",
        "    JOIN products as p\n",
        "        ON od.ProductId = p.productID\n",
        "    JOIN categories as cat\n",
        "        ON p.CategoryId = cat.CategoryID;\n",
        " ''')"
      ]
    },
    {
      "cell_type": "code",
      "execution_count": null,
      "metadata": {
        "id": "cm0Et05DodeN",
        "outputId": "98f370f4-fa88-4431-8b21-4a0b6c7c82ac"
      },
      "outputs": [
        {
          "data": {
            "text/html": [
              "<div>\n",
              "<style scoped>\n",
              "    .dataframe tbody tr th:only-of-type {\n",
              "        vertical-align: middle;\n",
              "    }\n",
              "\n",
              "    .dataframe tbody tr th {\n",
              "        vertical-align: top;\n",
              "    }\n",
              "\n",
              "    .dataframe thead th {\n",
              "        text-align: right;\n",
              "    }\n",
              "</style>\n",
              "<table border=\"1\" class=\"dataframe\">\n",
              "  <thead>\n",
              "    <tr style=\"text-align: right;\">\n",
              "      <th></th>\n",
              "      <th>orderID</th>\n",
              "      <th>ProductName</th>\n",
              "      <th>Discount</th>\n",
              "      <th>Quantity</th>\n",
              "      <th>CategoryName</th>\n",
              "      <th>City</th>\n",
              "      <th>Country</th>\n",
              "    </tr>\n",
              "  </thead>\n",
              "  <tbody>\n",
              "    <tr>\n",
              "      <th>0</th>\n",
              "      <td>10285</td>\n",
              "      <td>Chai</td>\n",
              "      <td>0.0</td>\n",
              "      <td>45</td>\n",
              "      <td>Beverages</td>\n",
              "      <td>Cunewalde</td>\n",
              "      <td>Germany</td>\n",
              "    </tr>\n",
              "    <tr>\n",
              "      <th>1</th>\n",
              "      <td>10294</td>\n",
              "      <td>Chai</td>\n",
              "      <td>0.0</td>\n",
              "      <td>18</td>\n",
              "      <td>Beverages</td>\n",
              "      <td>Albuquerque</td>\n",
              "      <td>USA</td>\n",
              "    </tr>\n",
              "    <tr>\n",
              "      <th>2</th>\n",
              "      <td>10317</td>\n",
              "      <td>Chai</td>\n",
              "      <td>0.0</td>\n",
              "      <td>20</td>\n",
              "      <td>Beverages</td>\n",
              "      <td>Portland</td>\n",
              "      <td>USA</td>\n",
              "    </tr>\n",
              "    <tr>\n",
              "      <th>3</th>\n",
              "      <td>10348</td>\n",
              "      <td>Chai</td>\n",
              "      <td>0.0</td>\n",
              "      <td>15</td>\n",
              "      <td>Beverages</td>\n",
              "      <td>Stuttgart</td>\n",
              "      <td>Germany</td>\n",
              "    </tr>\n",
              "    <tr>\n",
              "      <th>4</th>\n",
              "      <td>10354</td>\n",
              "      <td>Chai</td>\n",
              "      <td>0.0</td>\n",
              "      <td>12</td>\n",
              "      <td>Beverages</td>\n",
              "      <td>Mxico D.F.</td>\n",
              "      <td>Mexico</td>\n",
              "    </tr>\n",
              "    <tr>\n",
              "      <th>...</th>\n",
              "      <td>...</td>\n",
              "      <td>...</td>\n",
              "      <td>...</td>\n",
              "      <td>...</td>\n",
              "      <td>...</td>\n",
              "      <td>...</td>\n",
              "      <td>...</td>\n",
              "    </tr>\n",
              "    <tr>\n",
              "      <th>2150</th>\n",
              "      <td>10693</td>\n",
              "      <td>Rd Kaviar</td>\n",
              "      <td>0.0</td>\n",
              "      <td>15</td>\n",
              "      <td>Seafood</td>\n",
              "      <td>Seattle</td>\n",
              "      <td>USA</td>\n",
              "    </tr>\n",
              "    <tr>\n",
              "      <th>2151</th>\n",
              "      <td>10703</td>\n",
              "      <td>Rd Kaviar</td>\n",
              "      <td>0.0</td>\n",
              "      <td>35</td>\n",
              "      <td>Seafood</td>\n",
              "      <td>Brcke</td>\n",
              "      <td>Sweden</td>\n",
              "    </tr>\n",
              "    <tr>\n",
              "      <th>2152</th>\n",
              "      <td>10751</td>\n",
              "      <td>Rd Kaviar</td>\n",
              "      <td>0.0</td>\n",
              "      <td>15</td>\n",
              "      <td>Seafood</td>\n",
              "      <td>Genve</td>\n",
              "      <td>Switzerland</td>\n",
              "    </tr>\n",
              "    <tr>\n",
              "      <th>2153</th>\n",
              "      <td>10881</td>\n",
              "      <td>Rd Kaviar</td>\n",
              "      <td>0.0</td>\n",
              "      <td>10</td>\n",
              "      <td>Seafood</td>\n",
              "      <td>Buenos Aires</td>\n",
              "      <td>Argentina</td>\n",
              "    </tr>\n",
              "    <tr>\n",
              "      <th>2154</th>\n",
              "      <td>11077</td>\n",
              "      <td>Rd Kaviar</td>\n",
              "      <td>0.0</td>\n",
              "      <td>2</td>\n",
              "      <td>Seafood</td>\n",
              "      <td>Albuquerque</td>\n",
              "      <td>USA</td>\n",
              "    </tr>\n",
              "  </tbody>\n",
              "</table>\n",
              "<p>2155 rows × 7 columns</p>\n",
              "</div>"
            ],
            "text/plain": [
              "      orderID ProductName  Discount  Quantity CategoryName          City  \\\n",
              "0       10285        Chai       0.0        45    Beverages     Cunewalde   \n",
              "1       10294        Chai       0.0        18    Beverages   Albuquerque   \n",
              "2       10317        Chai       0.0        20    Beverages      Portland   \n",
              "3       10348        Chai       0.0        15    Beverages     Stuttgart   \n",
              "4       10354        Chai       0.0        12    Beverages    Mxico D.F.   \n",
              "...       ...         ...       ...       ...          ...           ...   \n",
              "2150    10693   Rd Kaviar       0.0        15      Seafood       Seattle   \n",
              "2151    10703   Rd Kaviar       0.0        35      Seafood         Brcke   \n",
              "2152    10751   Rd Kaviar       0.0        15      Seafood         Genve   \n",
              "2153    10881   Rd Kaviar       0.0        10      Seafood  Buenos Aires   \n",
              "2154    11077   Rd Kaviar       0.0         2      Seafood   Albuquerque   \n",
              "\n",
              "          Country  \n",
              "0         Germany  \n",
              "1             USA  \n",
              "2             USA  \n",
              "3         Germany  \n",
              "4          Mexico  \n",
              "...           ...  \n",
              "2150          USA  \n",
              "2151       Sweden  \n",
              "2152  Switzerland  \n",
              "2153    Argentina  \n",
              "2154          USA  \n",
              "\n",
              "[2155 rows x 7 columns]"
            ]
          },
          "execution_count": 51,
          "metadata": {},
          "output_type": "execute_result"
        }
      ],
      "source": [
        "df3"
      ]
    },
    {
      "cell_type": "markdown",
      "metadata": {
        "id": "OnIb8J3ESYWc"
      },
      "source": [
        "## **Data Manipulation**"
      ]
    },
    {
      "cell_type": "markdown",
      "metadata": {
        "id": "s3XsSW_rSbXB"
      },
      "source": [
        "Data yang akan digunakan untuk analisis adalah data ```table```. Sebelum melakukan analisa lebih lanjut, hal yang harus dilakukan adalah mengecek informasi serta anomali pada data, seperti: missing values, outlier, data formatting, dan/atau data duplikat. Jika memang terdapat 'data kotor', maka perlu dilakukan data cleansing. Sehingga output yang didapatkan adalah dataset yang bersih yang dapat dianalisis lebih lanjut, dilakukan visualisasi, dan analisa statistiknya. "
      ]
    },
    {
      "cell_type": "markdown",
      "metadata": {
        "id": "s8W16dOrJpGj"
      },
      "source": [
        "# Check Anomalies"
      ]
    },
    {
      "cell_type": "code",
      "execution_count": null,
      "metadata": {
        "id": "bwByD2hmJpGk",
        "outputId": "66730ef1-97de-429e-8f4c-eb7777009223"
      },
      "outputs": [
        {
          "name": "stdout",
          "output_type": "stream",
          "text": [
            "<class 'pandas.core.frame.DataFrame'>\n",
            "RangeIndex: 2155 entries, 0 to 2154\n",
            "Data columns (total 21 columns):\n",
            " #   Column        Non-Null Count  Dtype         \n",
            "---  ------        --------------  -----         \n",
            " 0   SupplierID    2155 non-null   int64         \n",
            " 1   CompanyName   2155 non-null   object        \n",
            " 2   ContactName   2155 non-null   object        \n",
            " 3   Region        731 non-null    object        \n",
            " 4   Country       2155 non-null   object        \n",
            " 5   ProductID     2155 non-null   int64         \n",
            " 6   CategoryID    2155 non-null   int64         \n",
            " 7   CategoryName  2155 non-null   object        \n",
            " 8   ProductName   2155 non-null   object        \n",
            " 9   UnitPrice     2155 non-null   object        \n",
            " 10  UnitsInStock  2155 non-null   int64         \n",
            " 11  UnitsOnOrder  2155 non-null   int64         \n",
            " 12  RestUnits     2155 non-null   int64         \n",
            " 13  Revenue       2155 non-null   object        \n",
            " 14  Discontinued  2155 non-null   int64         \n",
            " 15  OrderID       2155 non-null   int64         \n",
            " 16  Discount      2155 non-null   float64       \n",
            " 17  OrderDate     2155 non-null   datetime64[ns]\n",
            " 18  ShippedDate   2082 non-null   datetime64[ns]\n",
            " 19  ShipCountry   2155 non-null   object        \n",
            " 20  ShipVia       2155 non-null   int64         \n",
            "dtypes: datetime64[ns](2), float64(1), int64(9), object(9)\n",
            "memory usage: 353.7+ KB\n"
          ]
        }
      ],
      "source": [
        "#Check info Table\n",
        "table.info()"
      ]
    },
    {
      "cell_type": "code",
      "execution_count": null,
      "metadata": {
        "id": "qB3RNjGVJpGk",
        "outputId": "95bfb871-0ab2-4e09-ec3e-4df520fd4637"
      },
      "outputs": [
        {
          "data": {
            "text/plain": [
              "(2155, 21)"
            ]
          },
          "execution_count": 19,
          "metadata": {},
          "output_type": "execute_result"
        }
      ],
      "source": [
        "# Dimension of the data\n",
        "table.shape"
      ]
    },
    {
      "cell_type": "code",
      "execution_count": null,
      "metadata": {
        "id": "1yQETQKLJpGl",
        "outputId": "d84fd639-dba2-44ef-a794-75b3bd8ce00c"
      },
      "outputs": [
        {
          "name": "stdout",
          "output_type": "stream",
          "text": [
            "Binary Columns :  ['Discontinued']\n",
            "Categorical Columns :  ['CompanyName', 'ContactName', 'Region', 'Country', 'CategoryName', 'ProductName', 'UnitPrice', 'Revenue', 'ShipCountry']\n",
            "Numerical Columns :  ['SupplierID', 'ProductID', 'CategoryID', 'UnitsInStock', 'UnitsOnOrder', 'RestUnits', 'OrderID', 'Discount', 'OrderDate', 'ShippedDate', 'ShipVia']\n"
          ]
        }
      ],
      "source": [
        "# Get the list of numeric and categorical columns according to the input\n",
        "# Col datatype selection\n",
        "input_datatype_selection = 'auto' \n",
        "if input_datatype_selection == \"auto\":\n",
        "\n",
        "    binary_columns = [col for col in table.columns if table[col].nunique() == 2]\n",
        "    print(\"Binary Columns : \", binary_columns)\n",
        "\n",
        "    categorical_columns = [col for col in table.columns if table[col].dtype == \"object\"]\n",
        "    print(\"Categorical Columns : \", categorical_columns)\n",
        "\n",
        "    categorical_columns = binary_columns + categorical_columns\n",
        "    categorical_columns = list(set(categorical_columns))\n",
        "\n",
        "    numerical_columns = [col for col in table.columns if col not in categorical_columns]\n",
        "    print(\"Numerical Columns : \", numerical_columns)\n",
        "    \n",
        "else:\n",
        "    categorical_columns = input_cat_columns\n",
        "    print(\"Categorical Columns : \", categorical_columns)\n",
        "    \n",
        "    numerical_columns   = input_num_columns\n",
        "    print(\"Numerical Columns : \", numerical_columns)"
      ]
    },
    {
      "cell_type": "code",
      "execution_count": null,
      "metadata": {
        "id": "WH57fGdPJpGm",
        "outputId": "a01b1718-f28d-462c-f527-a0bc7d02c9f1"
      },
      "outputs": [
        {
          "data": {
            "image/png": "[encoded data removed]",
            "text/plain": [
              "<Figure size 1080x864 with 12 Axes>"
            ]
          },
          "metadata": {
            "needs_background": "light"
          },
          "output_type": "display_data"
        }
      ],
      "source": [
        "# Check the distribution of all the features\n",
        "table.hist(figsize=(15,12),bins = 15)\n",
        "plt.title(\"Features Distribution\")\n",
        "plt.show()"
      ]
    },
    {
      "cell_type": "markdown",
      "metadata": {
        "id": "rYH1NhB3YNez"
      },
      "source": [
        "## **Melihat Data Sekilas dari General Info**"
      ]
    },
    {
      "cell_type": "markdown",
      "metadata": {
        "id": "iLOM1HxpYV6b"
      },
      "source": [
        "Dari general info di atas, dapat diketahui bahwa terdapat 2155 baris dan 21 kolom. Setiap kolomnya memiliki tipe data yang berbeda-beda. Ada yang berupa object, float, integer, dan juga datetime. Setelah ditelisik lebih dalam lagi, terdapat tiga jenis kolom, yakni: Binary Columns, Categorical Columns, dan Numerical Columns.\n",
        "Dari Tabel Distribusi Feature, ```orderID``` dan ```ProductID``` memiliki distribusi data yang uniform. ```UnitsInStock``` memiliki distribusi data *right skewed.* Sedangkan ```Discontinued``` karena memiliki data boolean maka angkanya hanya ada pada kisaran 1 dan 0. ```Discount``` berada di angka 0, ini berarti seluruh isi data ```Discount``` bernilai 0. **Kesimpulannya setiap kolom memiliki distribusi data yang berbeda-beda**\n",
        "\n",
        "# **Missing Value**\n",
        "\n",
        "Dari tabel dibawah ini, diketahui beberapa kolom memiliki **missing value**. Misalnya ```region``` yang memiliki  >50% data null dan ```Shipped Date``` yang memiliki 73 data null. Oleh karena itu, **missing value perlu ditangani. ** Data ```region``` yang memiliki 66% data null tentu tidak akan berguna karena memiliki separuh lebih data kosong.  Untuk mengatasi hal tersebut, data tersebut akan dihapus. \n",
        "\n",
        "Selain itu, data ```Shipped Date``` memiliki 3% data kosong dan tidak akan berpengaruh secara signifikan terhadap data utama. Sehingga data ini akan dihapus. \n",
        "\n",
        "Di sisi lain diketahui bahwa variable ```discount``` hanya memiliki satu values di isi datanya, yakni 0. Sehingga karena informasi ini tidak bermanfaat secara signifikan sehingga juga akan dihapus datanya dari data utama.\n",
        "\n",
        "Dari tabel distribusi data diketahui variabel ```discontinued``` hany memiliki kurang dari 100 data yang memiliki nilai selain 1. Artinya data ini tidak akan berpengaruh secara signifikan terhadap data utama. Sehingga data ini akan dihapus. "
      ]
    },
    {
      "cell_type": "code",
      "execution_count": null,
      "metadata": {
        "id": "brBbDQkrJpGm",
        "outputId": "be0bc609-058a-4ce9-b0e2-9dbc1acaa957"
      },
      "outputs": [
        {
          "data": {
            "text/plain": [
              "SupplierID         0\n",
              "CompanyName        0\n",
              "ContactName        0\n",
              "Region          1424\n",
              "Country            0\n",
              "ProductID          0\n",
              "CategoryID         0\n",
              "CategoryName       0\n",
              "ProductName        0\n",
              "UnitPrice          0\n",
              "UnitsInStock       0\n",
              "UnitsOnOrder       0\n",
              "RestUnits          0\n",
              "Revenue            0\n",
              "Discontinued       0\n",
              "OrderID            0\n",
              "Discount           0\n",
              "OrderDate          0\n",
              "ShippedDate       73\n",
              "ShipCountry        0\n",
              "ShipVia            0\n",
              "dtype: int64"
            ]
          },
          "execution_count": 22,
          "metadata": {},
          "output_type": "execute_result"
        }
      ],
      "source": [
        "#Code ini digunakan untuk menghitung nilai null disetiap kolom. Diketahui bahwa variabel region dan shipped date memiliki nilai kosong atau null values.\n",
        "table.isnull().sum()"
      ]
    },
    {
      "cell_type": "code",
      "execution_count": null,
      "metadata": {
        "id": "_n9SY1SaJpGn",
        "outputId": "47eaf208-93be-4ac9-9e9a-60dccafe231a"
      },
      "outputs": [
        {
          "data": {
            "text/plain": [
              "0    0.0\n",
              "1    0.0\n",
              "2    0.0\n",
              "3    0.0\n",
              "4    0.0\n",
              "Name: Discount, dtype: float64"
            ]
          },
          "execution_count": 23,
          "metadata": {},
          "output_type": "execute_result"
        }
      ],
      "source": [
        "table['Discount'].head()"
      ]
    },
    {
      "cell_type": "code",
      "execution_count": null,
      "metadata": {
        "id": "OcqyFpOuJpGn",
        "outputId": "a57a0012-e953-4ee4-9a23-3ddcae7e8be1"
      },
      "outputs": [
        {
          "data": {
            "text/plain": [
              "(2155, 21)"
            ]
          },
          "execution_count": 24,
          "metadata": {},
          "output_type": "execute_result"
        }
      ],
      "source": [
        "#Dari code berikut diketahui bahwa isi data tabel Discount tidak memiliki nilai lain selain 0.0. \n",
        "#Sehingga informasi dari kolom ini tidak bermanfaat secara signifikan\n",
        "\n",
        "table[~(table['Discount'].isin(['0.0']))].shape"
      ]
    },
    {
      "cell_type": "code",
      "execution_count": null,
      "metadata": {
        "id": "zKcEOHqsJpGn",
        "outputId": "44adb5ae-1556-4f7c-9fd2-839af93446a0"
      },
      "outputs": [
        {
          "data": {
            "text/plain": [
              "0    0\n",
              "1    0\n",
              "2    0\n",
              "3    0\n",
              "4    0\n",
              "Name: Discontinued, dtype: int64"
            ]
          },
          "execution_count": 25,
          "metadata": {},
          "output_type": "execute_result"
        }
      ],
      "source": [
        "#Dari 5 data teratas kolom discontinued ternyata hanya berisi nilai 0.\n",
        "table['Discontinued'].head()"
      ]
    },
    {
      "cell_type": "code",
      "execution_count": null,
      "metadata": {
        "id": "GPexLYvbJpGo"
      },
      "outputs": [],
      "source": [
        "#Code ini digunakan untuk menghapus kolom region, discount, dan discontinued.\n",
        "table.drop(['Region', 'Discount','Discontinued'], axis=1, inplace = True)"
      ]
    },
    {
      "cell_type": "code",
      "execution_count": null,
      "metadata": {
        "id": "xSezn7kNJpGo"
      },
      "outputs": [],
      "source": [
        "#Kolom ini digunakan untuk melakukan penghapusan baris yang memiliki nilai null diantara barisnya.\n",
        "table.dropna(inplace = True)"
      ]
    },
    {
      "cell_type": "markdown",
      "metadata": {
        "id": "zSDV3TzohCxv"
      },
      "source": [
        "Akhirnya setelah melakukan data cleansing *missing value*  melalui penghapusan baris yang mengandung nilai null, akan dihitung kembali jumlah nilai null disetiap kolom. Melalui code dibawah berikut, sudah tidak ada lagi data null, data kosong, serta data yang tidak bernilai signifikan yang terkandung dalam data utama."
      ]
    },
    {
      "cell_type": "code",
      "execution_count": null,
      "metadata": {
        "id": "zdLfRxyjJpGo",
        "outputId": "3aa31bd3-efa6-44b6-c2fa-9eba0aa5a616"
      },
      "outputs": [
        {
          "data": {
            "text/plain": [
              "SupplierID      0\n",
              "CompanyName     0\n",
              "ContactName     0\n",
              "Country         0\n",
              "ProductID       0\n",
              "CategoryID      0\n",
              "CategoryName    0\n",
              "ProductName     0\n",
              "UnitPrice       0\n",
              "UnitsInStock    0\n",
              "UnitsOnOrder    0\n",
              "RestUnits       0\n",
              "Revenue         0\n",
              "OrderID         0\n",
              "OrderDate       0\n",
              "ShippedDate     0\n",
              "ShipCountry     0\n",
              "ShipVia         0\n",
              "dtype: int64"
            ]
          },
          "execution_count": 28,
          "metadata": {},
          "output_type": "execute_result"
        }
      ],
      "source": [
        "table.isnull().sum()"
      ]
    },
    {
      "cell_type": "markdown",
      "metadata": {
        "id": "Ta3CSeQFhgdu"
      },
      "source": [
        "## **Format Data**\n",
        "Kolom ```UnitPrice``` dan ```Revenue``` memiliki tipe data object. Hal ini tentu berbeda dengan isi data yang bernilai numerik. Oleh karena itu akan dilakukan **pengubahan tipe data** menjadi nilai numerik. Tujuannya agar kolom ini dapat dipergunakan untuk analisis sebagaimana mestinya. "
      ]
    },
    {
      "cell_type": "code",
      "execution_count": null,
      "metadata": {
        "id": "B2NoD3bzJpGo"
      },
      "outputs": [],
      "source": [
        "#pd.to_numeric diaplikasikan untuk mengubah tipe data variabel dari object menjadi numerik.\n",
        "table['UnitPrice'] = pd.to_numeric(table['UnitPrice'])\n",
        "table['Revenue'] = pd.to_numeric(table['Revenue'])"
      ]
    },
    {
      "cell_type": "code",
      "execution_count": null,
      "metadata": {
        "id": "zakYYb0TJpGp",
        "outputId": "ab040a8e-9ea2-48a6-fde0-bfef41fe4f4c"
      },
      "outputs": [
        {
          "name": "stdout",
          "output_type": "stream",
          "text": [
            "<class 'pandas.core.frame.DataFrame'>\n",
            "Int64Index: 2082 entries, 0 to 2154\n",
            "Data columns (total 18 columns):\n",
            " #   Column        Non-Null Count  Dtype         \n",
            "---  ------        --------------  -----         \n",
            " 0   SupplierID    2082 non-null   int64         \n",
            " 1   CompanyName   2082 non-null   object        \n",
            " 2   ContactName   2082 non-null   object        \n",
            " 3   Country       2082 non-null   object        \n",
            " 4   ProductID     2082 non-null   int64         \n",
            " 5   CategoryID    2082 non-null   int64         \n",
            " 6   CategoryName  2082 non-null   object        \n",
            " 7   ProductName   2082 non-null   object        \n",
            " 8   UnitPrice     2082 non-null   float64       \n",
            " 9   UnitsInStock  2082 non-null   int64         \n",
            " 10  UnitsOnOrder  2082 non-null   int64         \n",
            " 11  RestUnits     2082 non-null   int64         \n",
            " 12  Revenue       2082 non-null   float64       \n",
            " 13  OrderID       2082 non-null   int64         \n",
            " 14  OrderDate     2082 non-null   datetime64[ns]\n",
            " 15  ShippedDate   2082 non-null   datetime64[ns]\n",
            " 16  ShipCountry   2082 non-null   object        \n",
            " 17  ShipVia       2082 non-null   int64         \n",
            "dtypes: datetime64[ns](2), float64(2), int64(8), object(6)\n",
            "memory usage: 309.0+ KB\n"
          ]
        }
      ],
      "source": [
        "table.info()"
      ]
    },
    {
      "cell_type": "markdown",
      "metadata": {
        "id": "d0xWPxK6kEhg"
      },
      "source": [
        "## **Duplicated Data**"
      ]
    },
    {
      "cell_type": "markdown",
      "metadata": {
        "id": "jLc86fHtkINQ"
      },
      "source": [
        "Pada bagian berikut, akan dicek apakah terdapat data duplikat dalam tabel. Untuk saat ini, diketahui bahwa tidak terdapat data duplikat dalam data utama.Dengan begitu, tidak diperlukan tindakan tambahan."
      ]
    },
    {
      "cell_type": "code",
      "execution_count": null,
      "metadata": {
        "id": "qHt4ycLJJpGp",
        "outputId": "9a661c75-02cb-453b-81cb-26997b043d73"
      },
      "outputs": [
        {
          "data": {
            "text/html": [
              "<div>\n",
              "<style scoped>\n",
              "    .dataframe tbody tr th:only-of-type {\n",
              "        vertical-align: middle;\n",
              "    }\n",
              "\n",
              "    .dataframe tbody tr th {\n",
              "        vertical-align: top;\n",
              "    }\n",
              "\n",
              "    .dataframe thead th {\n",
              "        text-align: right;\n",
              "    }\n",
              "</style>\n",
              "<table border=\"1\" class=\"dataframe\">\n",
              "  <thead>\n",
              "    <tr style=\"text-align: right;\">\n",
              "      <th></th>\n",
              "      <th>SupplierID</th>\n",
              "      <th>CompanyName</th>\n",
              "      <th>ContactName</th>\n",
              "      <th>Country</th>\n",
              "      <th>ProductID</th>\n",
              "      <th>CategoryID</th>\n",
              "      <th>CategoryName</th>\n",
              "      <th>ProductName</th>\n",
              "      <th>UnitPrice</th>\n",
              "      <th>UnitsInStock</th>\n",
              "      <th>UnitsOnOrder</th>\n",
              "      <th>RestUnits</th>\n",
              "      <th>Revenue</th>\n",
              "      <th>OrderID</th>\n",
              "      <th>OrderDate</th>\n",
              "      <th>ShippedDate</th>\n",
              "      <th>ShipCountry</th>\n",
              "      <th>ShipVia</th>\n",
              "    </tr>\n",
              "  </thead>\n",
              "  <tbody>\n",
              "  </tbody>\n",
              "</table>\n",
              "</div>"
            ],
            "text/plain": [
              "Empty DataFrame\n",
              "Columns: [SupplierID, CompanyName, ContactName, Country, ProductID, CategoryID, CategoryName, ProductName, UnitPrice, UnitsInStock, UnitsOnOrder, RestUnits, Revenue, OrderID, OrderDate, ShippedDate, ShipCountry, ShipVia]\n",
              "Index: []"
            ]
          },
          "execution_count": 32,
          "metadata": {},
          "output_type": "execute_result"
        }
      ],
      "source": [
        "table[table.duplicated()]"
      ]
    },
    {
      "cell_type": "markdown",
      "metadata": {
        "id": "M_RSCkHXkqbj"
      },
      "source": [
        "## Processing Date"
      ]
    },
    {
      "cell_type": "markdown",
      "metadata": {
        "id": "CVqoRuQikxO-"
      },
      "source": [
        "Data awal menunjukkan terdapat dua data bertipe datetime, yakni ```shippedDate``` dan ```OrderDate```. Oleh karena itu, akan dilakukan ekstraksi informasi tambahan yakni ```ProcessingDate```. ```ShippedDate``` secara ringkas adalah tanggal barang dikirimkan, ```OrderdDate``` adalah tanggal barang dipesan, sedangkan ```ProcessingDate``` adalah tanggal barang diproses dari pemesanan hingga pengiriman. Output yang keluar berupa selisih dalam hari. \n",
        "\n",
        "Berdasarkan output, diketahui bahwa barang kebanyakan diproses selama 7 hari. 1 hari adalah waktu pemrosesan tercepat dan 37 hari adalah waktu pemrosesan terlama. Sejauh ini,tidak ada anomali data dalam kolom ```ProcessingDate```."
      ]
    },
    {
      "cell_type": "code",
      "execution_count": null,
      "metadata": {
        "id": "OifSNNh1JpGp"
      },
      "outputs": [],
      "source": [
        "table['ProcessingDate'] = table['ShippedDate'] - table['OrderDate']"
      ]
    },
    {
      "cell_type": "code",
      "execution_count": null,
      "metadata": {
        "id": "16OG8UWkJpGp",
        "outputId": "9744d6c5-551e-4adb-bac5-20569175e7b5"
      },
      "outputs": [
        {
          "data": {
            "text/plain": [
              "7 days     271\n",
              "6 days     241\n",
              "3 days     187\n",
              "9 days     184\n",
              "5 days     177\n",
              "4 days     176\n",
              "8 days     174\n",
              "2 days     149\n",
              "10 days    129\n",
              "12 days     45\n",
              "1 days      43\n",
              "11 days     34\n",
              "19 days     23\n",
              "21 days     20\n",
              "29 days     19\n",
              "18 days     19\n",
              "13 days     17\n",
              "23 days     15\n",
              "32 days     15\n",
              "15 days     14\n",
              "20 days     13\n",
              "34 days     13\n",
              "25 days     13\n",
              "14 days     12\n",
              "35 days     12\n",
              "17 days     11\n",
              "30 days     11\n",
              "22 days     11\n",
              "24 days     11\n",
              "28 days      8\n",
              "26 days      5\n",
              "27 days      4\n",
              "31 days      3\n",
              "37 days      2\n",
              "16 days      1\n",
              "Name: ProcessingDate, dtype: int64"
            ]
          },
          "execution_count": 34,
          "metadata": {},
          "output_type": "execute_result"
        }
      ],
      "source": [
        "table['ProcessingDate'].value_counts()"
      ]
    },
    {
      "cell_type": "markdown",
      "metadata": {
        "id": "Gdj8R6sVpHbP"
      },
      "source": [
        "### Anomali pada Unique Value 'RestUnits'"
      ]
    },
    {
      "cell_type": "markdown",
      "metadata": {
        "id": "HrJrEEqXpLvf"
      },
      "source": [
        "Terdapat kolom baru yang digenerate dari kolom ```UnitsInStock``` dan ```UnitsOnOrder```, yakni ```RestUnits```. Secara ringkas ```UnitsInStock``` adalah total unit yang berada di stok gudang, ```UnitsOnOrder``` adalah total unit yang dipesan, dan ```RestUnits``` adalah sisa stok digudang setelah dipesan. Namun demikian, terdapat nilai minus dalam perhitungan *unique valuenya*. Ada -96, -39, dan -55. Asumsinya, terdapat jumlah order yang melebihi stok gudang sehingga terdapat nilai minus dalam data. "
      ]
    },
    {
      "cell_type": "code",
      "execution_count": null,
      "metadata": {
        "id": "-6tF1VHMJpGp",
        "outputId": "231a57bf-584b-456e-ec5a-8a1a1e3e02b6"
      },
      "outputs": [
        {
          "data": {
            "text/plain": [
              " 26     132\n",
              " 20     122\n",
              " 0      107\n",
              " 17      72\n",
              " 112     61\n",
              "       ... \n",
              " 65       9\n",
              " 49       9\n",
              "-96       7\n",
              "-39       6\n",
              "-55       6\n",
              "Name: RestUnits, Length: 61, dtype: int64"
            ]
          },
          "execution_count": 35,
          "metadata": {},
          "output_type": "execute_result"
        }
      ],
      "source": [
        "#Menghitung total unique value dari kolom RestUnits\n",
        "table['RestUnits'].value_counts()"
      ]
    },
    {
      "cell_type": "code",
      "execution_count": null,
      "metadata": {
        "id": "ihrP5Yd9JpGq",
        "outputId": "61bde18c-d48f-4e44-e80c-5b969ab3478a"
      },
      "outputs": [
        {
          "data": {
            "text/html": [
              "<div>\n",
              "<style scoped>\n",
              "    .dataframe tbody tr th:only-of-type {\n",
              "        vertical-align: middle;\n",
              "    }\n",
              "\n",
              "    .dataframe tbody tr th {\n",
              "        vertical-align: top;\n",
              "    }\n",
              "\n",
              "    .dataframe thead th {\n",
              "        text-align: right;\n",
              "    }\n",
              "</style>\n",
              "<table border=\"1\" class=\"dataframe\">\n",
              "  <thead>\n",
              "    <tr style=\"text-align: right;\">\n",
              "      <th></th>\n",
              "      <th>SupplierID</th>\n",
              "      <th>CompanyName</th>\n",
              "      <th>ContactName</th>\n",
              "      <th>Country</th>\n",
              "      <th>ProductID</th>\n",
              "      <th>CategoryID</th>\n",
              "      <th>CategoryName</th>\n",
              "      <th>ProductName</th>\n",
              "      <th>UnitPrice</th>\n",
              "      <th>UnitsInStock</th>\n",
              "      <th>UnitsOnOrder</th>\n",
              "      <th>RestUnits</th>\n",
              "      <th>Revenue</th>\n",
              "      <th>OrderID</th>\n",
              "      <th>OrderDate</th>\n",
              "      <th>ShippedDate</th>\n",
              "      <th>ShipCountry</th>\n",
              "      <th>ShipVia</th>\n",
              "      <th>ProcessingDate</th>\n",
              "    </tr>\n",
              "  </thead>\n",
              "  <tbody>\n",
              "    <tr>\n",
              "      <th>1644</th>\n",
              "      <td>22</td>\n",
              "      <td>Zaanse Snoepfabriek</td>\n",
              "      <td>Dirk Luchte</td>\n",
              "      <td>Netherlands</td>\n",
              "      <td>48</td>\n",
              "      <td>3</td>\n",
              "      <td>Confections</td>\n",
              "      <td>Chocolade</td>\n",
              "      <td>12.75</td>\n",
              "      <td>15</td>\n",
              "      <td>70</td>\n",
              "      <td>-55</td>\n",
              "      <td>892.50</td>\n",
              "      <td>10403</td>\n",
              "      <td>1997-01-03</td>\n",
              "      <td>1997-01-09</td>\n",
              "      <td>Austria</td>\n",
              "      <td>3</td>\n",
              "      <td>6 days</td>\n",
              "    </tr>\n",
              "    <tr>\n",
              "      <th>1645</th>\n",
              "      <td>22</td>\n",
              "      <td>Zaanse Snoepfabriek</td>\n",
              "      <td>Dirk Luchte</td>\n",
              "      <td>Netherlands</td>\n",
              "      <td>48</td>\n",
              "      <td>3</td>\n",
              "      <td>Confections</td>\n",
              "      <td>Chocolade</td>\n",
              "      <td>12.75</td>\n",
              "      <td>15</td>\n",
              "      <td>70</td>\n",
              "      <td>-55</td>\n",
              "      <td>191.25</td>\n",
              "      <td>10453</td>\n",
              "      <td>1997-02-21</td>\n",
              "      <td>1997-02-26</td>\n",
              "      <td>UK</td>\n",
              "      <td>2</td>\n",
              "      <td>5 days</td>\n",
              "    </tr>\n",
              "    <tr>\n",
              "      <th>1646</th>\n",
              "      <td>22</td>\n",
              "      <td>Zaanse Snoepfabriek</td>\n",
              "      <td>Dirk Luchte</td>\n",
              "      <td>Netherlands</td>\n",
              "      <td>48</td>\n",
              "      <td>3</td>\n",
              "      <td>Confections</td>\n",
              "      <td>Chocolade</td>\n",
              "      <td>12.75</td>\n",
              "      <td>15</td>\n",
              "      <td>70</td>\n",
              "      <td>-55</td>\n",
              "      <td>191.25</td>\n",
              "      <td>10507</td>\n",
              "      <td>1997-04-15</td>\n",
              "      <td>1997-04-22</td>\n",
              "      <td>Mexico</td>\n",
              "      <td>1</td>\n",
              "      <td>7 days</td>\n",
              "    </tr>\n",
              "    <tr>\n",
              "      <th>1647</th>\n",
              "      <td>22</td>\n",
              "      <td>Zaanse Snoepfabriek</td>\n",
              "      <td>Dirk Luchte</td>\n",
              "      <td>Netherlands</td>\n",
              "      <td>48</td>\n",
              "      <td>3</td>\n",
              "      <td>Confections</td>\n",
              "      <td>Chocolade</td>\n",
              "      <td>12.75</td>\n",
              "      <td>15</td>\n",
              "      <td>70</td>\n",
              "      <td>-55</td>\n",
              "      <td>76.50</td>\n",
              "      <td>10604</td>\n",
              "      <td>1997-07-18</td>\n",
              "      <td>1997-07-29</td>\n",
              "      <td>Portugal</td>\n",
              "      <td>1</td>\n",
              "      <td>11 days</td>\n",
              "    </tr>\n",
              "    <tr>\n",
              "      <th>1648</th>\n",
              "      <td>22</td>\n",
              "      <td>Zaanse Snoepfabriek</td>\n",
              "      <td>Dirk Luchte</td>\n",
              "      <td>Netherlands</td>\n",
              "      <td>48</td>\n",
              "      <td>3</td>\n",
              "      <td>Confections</td>\n",
              "      <td>Chocolade</td>\n",
              "      <td>12.75</td>\n",
              "      <td>15</td>\n",
              "      <td>70</td>\n",
              "      <td>-55</td>\n",
              "      <td>306.00</td>\n",
              "      <td>10704</td>\n",
              "      <td>1997-10-14</td>\n",
              "      <td>1997-11-07</td>\n",
              "      <td>Brazil</td>\n",
              "      <td>1</td>\n",
              "      <td>24 days</td>\n",
              "    </tr>\n",
              "    <tr>\n",
              "      <th>1649</th>\n",
              "      <td>22</td>\n",
              "      <td>Zaanse Snoepfabriek</td>\n",
              "      <td>Dirk Luchte</td>\n",
              "      <td>Netherlands</td>\n",
              "      <td>48</td>\n",
              "      <td>3</td>\n",
              "      <td>Confections</td>\n",
              "      <td>Chocolade</td>\n",
              "      <td>12.75</td>\n",
              "      <td>15</td>\n",
              "      <td>70</td>\n",
              "      <td>-55</td>\n",
              "      <td>102.00</td>\n",
              "      <td>10814</td>\n",
              "      <td>1998-01-05</td>\n",
              "      <td>1998-01-14</td>\n",
              "      <td>France</td>\n",
              "      <td>3</td>\n",
              "      <td>9 days</td>\n",
              "    </tr>\n",
              "  </tbody>\n",
              "</table>\n",
              "</div>"
            ],
            "text/plain": [
              "      SupplierID          CompanyName  ContactName      Country  ProductID  \\\n",
              "1644          22  Zaanse Snoepfabriek  Dirk Luchte  Netherlands         48   \n",
              "1645          22  Zaanse Snoepfabriek  Dirk Luchte  Netherlands         48   \n",
              "1646          22  Zaanse Snoepfabriek  Dirk Luchte  Netherlands         48   \n",
              "1647          22  Zaanse Snoepfabriek  Dirk Luchte  Netherlands         48   \n",
              "1648          22  Zaanse Snoepfabriek  Dirk Luchte  Netherlands         48   \n",
              "1649          22  Zaanse Snoepfabriek  Dirk Luchte  Netherlands         48   \n",
              "\n",
              "      CategoryID CategoryName ProductName  UnitPrice  UnitsInStock  \\\n",
              "1644           3  Confections   Chocolade      12.75            15   \n",
              "1645           3  Confections   Chocolade      12.75            15   \n",
              "1646           3  Confections   Chocolade      12.75            15   \n",
              "1647           3  Confections   Chocolade      12.75            15   \n",
              "1648           3  Confections   Chocolade      12.75            15   \n",
              "1649           3  Confections   Chocolade      12.75            15   \n",
              "\n",
              "      UnitsOnOrder  RestUnits  Revenue  OrderID  OrderDate ShippedDate  \\\n",
              "1644            70        -55   892.50    10403 1997-01-03  1997-01-09   \n",
              "1645            70        -55   191.25    10453 1997-02-21  1997-02-26   \n",
              "1646            70        -55   191.25    10507 1997-04-15  1997-04-22   \n",
              "1647            70        -55    76.50    10604 1997-07-18  1997-07-29   \n",
              "1648            70        -55   306.00    10704 1997-10-14  1997-11-07   \n",
              "1649            70        -55   102.00    10814 1998-01-05  1998-01-14   \n",
              "\n",
              "     ShipCountry  ShipVia ProcessingDate  \n",
              "1644     Austria        3         6 days  \n",
              "1645          UK        2         5 days  \n",
              "1646      Mexico        1         7 days  \n",
              "1647    Portugal        1        11 days  \n",
              "1648      Brazil        1        24 days  \n",
              "1649      France        3         9 days  "
            ]
          },
          "execution_count": 36,
          "metadata": {},
          "output_type": "execute_result"
        }
      ],
      "source": [
        "#Terdapat 6 data yang memiliki nilai RestUnits -55\n",
        "table[table['RestUnits'] == -55]"
      ]
    },
    {
      "cell_type": "code",
      "execution_count": null,
      "metadata": {
        "id": "-H6nphzVJpGq",
        "outputId": "b26dc26d-4f23-4edd-dcc9-d0778c8bb031"
      },
      "outputs": [
        {
          "data": {
            "text/html": [
              "<div>\n",
              "<style scoped>\n",
              "    .dataframe tbody tr th:only-of-type {\n",
              "        vertical-align: middle;\n",
              "    }\n",
              "\n",
              "    .dataframe tbody tr th {\n",
              "        vertical-align: top;\n",
              "    }\n",
              "\n",
              "    .dataframe thead th {\n",
              "        text-align: right;\n",
              "    }\n",
              "</style>\n",
              "<table border=\"1\" class=\"dataframe\">\n",
              "  <thead>\n",
              "    <tr style=\"text-align: right;\">\n",
              "      <th></th>\n",
              "      <th>SupplierID</th>\n",
              "      <th>CompanyName</th>\n",
              "      <th>ContactName</th>\n",
              "      <th>Country</th>\n",
              "      <th>ProductID</th>\n",
              "      <th>CategoryID</th>\n",
              "      <th>CategoryName</th>\n",
              "      <th>ProductName</th>\n",
              "      <th>UnitPrice</th>\n",
              "      <th>UnitsInStock</th>\n",
              "      <th>UnitsOnOrder</th>\n",
              "      <th>RestUnits</th>\n",
              "      <th>Revenue</th>\n",
              "      <th>OrderID</th>\n",
              "      <th>OrderDate</th>\n",
              "      <th>ShippedDate</th>\n",
              "      <th>ShipCountry</th>\n",
              "      <th>ShipVia</th>\n",
              "      <th>ProcessingDate</th>\n",
              "    </tr>\n",
              "  </thead>\n",
              "  <tbody>\n",
              "    <tr>\n",
              "      <th>156</th>\n",
              "      <td>2</td>\n",
              "      <td>New Orleans Cajun Delights</td>\n",
              "      <td>Shelley Burke</td>\n",
              "      <td>USA</td>\n",
              "      <td>66</td>\n",
              "      <td>2</td>\n",
              "      <td>Condiments</td>\n",
              "      <td>Louisiana Hot Spiced Okra</td>\n",
              "      <td>17.0</td>\n",
              "      <td>4</td>\n",
              "      <td>100</td>\n",
              "      <td>-96</td>\n",
              "      <td>510.0</td>\n",
              "      <td>10300</td>\n",
              "      <td>1996-09-09</td>\n",
              "      <td>1996-09-18</td>\n",
              "      <td>Italy</td>\n",
              "      <td>2</td>\n",
              "      <td>9 days</td>\n",
              "    </tr>\n",
              "    <tr>\n",
              "      <th>157</th>\n",
              "      <td>2</td>\n",
              "      <td>New Orleans Cajun Delights</td>\n",
              "      <td>Shelley Burke</td>\n",
              "      <td>USA</td>\n",
              "      <td>66</td>\n",
              "      <td>2</td>\n",
              "      <td>Condiments</td>\n",
              "      <td>Louisiana Hot Spiced Okra</td>\n",
              "      <td>17.0</td>\n",
              "      <td>4</td>\n",
              "      <td>100</td>\n",
              "      <td>-96</td>\n",
              "      <td>1020.0</td>\n",
              "      <td>10442</td>\n",
              "      <td>1997-02-11</td>\n",
              "      <td>1997-02-18</td>\n",
              "      <td>Austria</td>\n",
              "      <td>2</td>\n",
              "      <td>7 days</td>\n",
              "    </tr>\n",
              "    <tr>\n",
              "      <th>158</th>\n",
              "      <td>2</td>\n",
              "      <td>New Orleans Cajun Delights</td>\n",
              "      <td>Shelley Burke</td>\n",
              "      <td>USA</td>\n",
              "      <td>66</td>\n",
              "      <td>2</td>\n",
              "      <td>Condiments</td>\n",
              "      <td>Louisiana Hot Spiced Okra</td>\n",
              "      <td>17.0</td>\n",
              "      <td>4</td>\n",
              "      <td>100</td>\n",
              "      <td>-96</td>\n",
              "      <td>1020.0</td>\n",
              "      <td>10475</td>\n",
              "      <td>1997-03-14</td>\n",
              "      <td>1997-04-04</td>\n",
              "      <td>Belgium</td>\n",
              "      <td>1</td>\n",
              "      <td>21 days</td>\n",
              "    </tr>\n",
              "    <tr>\n",
              "      <th>159</th>\n",
              "      <td>2</td>\n",
              "      <td>New Orleans Cajun Delights</td>\n",
              "      <td>Shelley Burke</td>\n",
              "      <td>USA</td>\n",
              "      <td>66</td>\n",
              "      <td>2</td>\n",
              "      <td>Condiments</td>\n",
              "      <td>Louisiana Hot Spiced Okra</td>\n",
              "      <td>17.0</td>\n",
              "      <td>4</td>\n",
              "      <td>100</td>\n",
              "      <td>-96</td>\n",
              "      <td>170.0</td>\n",
              "      <td>10493</td>\n",
              "      <td>1997-04-02</td>\n",
              "      <td>1997-04-10</td>\n",
              "      <td>France</td>\n",
              "      <td>3</td>\n",
              "      <td>8 days</td>\n",
              "    </tr>\n",
              "    <tr>\n",
              "      <th>160</th>\n",
              "      <td>2</td>\n",
              "      <td>New Orleans Cajun Delights</td>\n",
              "      <td>Shelley Burke</td>\n",
              "      <td>USA</td>\n",
              "      <td>66</td>\n",
              "      <td>2</td>\n",
              "      <td>Condiments</td>\n",
              "      <td>Louisiana Hot Spiced Okra</td>\n",
              "      <td>17.0</td>\n",
              "      <td>4</td>\n",
              "      <td>100</td>\n",
              "      <td>-96</td>\n",
              "      <td>408.0</td>\n",
              "      <td>10532</td>\n",
              "      <td>1997-05-09</td>\n",
              "      <td>1997-05-12</td>\n",
              "      <td>UK</td>\n",
              "      <td>3</td>\n",
              "      <td>3 days</td>\n",
              "    </tr>\n",
              "    <tr>\n",
              "      <th>161</th>\n",
              "      <td>2</td>\n",
              "      <td>New Orleans Cajun Delights</td>\n",
              "      <td>Shelley Burke</td>\n",
              "      <td>USA</td>\n",
              "      <td>66</td>\n",
              "      <td>2</td>\n",
              "      <td>Condiments</td>\n",
              "      <td>Louisiana Hot Spiced Okra</td>\n",
              "      <td>17.0</td>\n",
              "      <td>4</td>\n",
              "      <td>100</td>\n",
              "      <td>-96</td>\n",
              "      <td>68.0</td>\n",
              "      <td>10682</td>\n",
              "      <td>1997-09-25</td>\n",
              "      <td>1997-10-01</td>\n",
              "      <td>Mexico</td>\n",
              "      <td>2</td>\n",
              "      <td>6 days</td>\n",
              "    </tr>\n",
              "    <tr>\n",
              "      <th>162</th>\n",
              "      <td>2</td>\n",
              "      <td>New Orleans Cajun Delights</td>\n",
              "      <td>Shelley Burke</td>\n",
              "      <td>USA</td>\n",
              "      <td>66</td>\n",
              "      <td>2</td>\n",
              "      <td>Condiments</td>\n",
              "      <td>Louisiana Hot Spiced Okra</td>\n",
              "      <td>17.0</td>\n",
              "      <td>4</td>\n",
              "      <td>100</td>\n",
              "      <td>-96</td>\n",
              "      <td>850.0</td>\n",
              "      <td>10774</td>\n",
              "      <td>1997-12-11</td>\n",
              "      <td>1997-12-12</td>\n",
              "      <td>Sweden</td>\n",
              "      <td>1</td>\n",
              "      <td>1 days</td>\n",
              "    </tr>\n",
              "  </tbody>\n",
              "</table>\n",
              "</div>"
            ],
            "text/plain": [
              "     SupplierID                 CompanyName    ContactName Country  ProductID  \\\n",
              "156           2  New Orleans Cajun Delights  Shelley Burke     USA         66   \n",
              "157           2  New Orleans Cajun Delights  Shelley Burke     USA         66   \n",
              "158           2  New Orleans Cajun Delights  Shelley Burke     USA         66   \n",
              "159           2  New Orleans Cajun Delights  Shelley Burke     USA         66   \n",
              "160           2  New Orleans Cajun Delights  Shelley Burke     USA         66   \n",
              "161           2  New Orleans Cajun Delights  Shelley Burke     USA         66   \n",
              "162           2  New Orleans Cajun Delights  Shelley Burke     USA         66   \n",
              "\n",
              "     CategoryID CategoryName                ProductName  UnitPrice  \\\n",
              "156           2   Condiments  Louisiana Hot Spiced Okra       17.0   \n",
              "157           2   Condiments  Louisiana Hot Spiced Okra       17.0   \n",
              "158           2   Condiments  Louisiana Hot Spiced Okra       17.0   \n",
              "159           2   Condiments  Louisiana Hot Spiced Okra       17.0   \n",
              "160           2   Condiments  Louisiana Hot Spiced Okra       17.0   \n",
              "161           2   Condiments  Louisiana Hot Spiced Okra       17.0   \n",
              "162           2   Condiments  Louisiana Hot Spiced Okra       17.0   \n",
              "\n",
              "     UnitsInStock  UnitsOnOrder  RestUnits  Revenue  OrderID  OrderDate  \\\n",
              "156             4           100        -96    510.0    10300 1996-09-09   \n",
              "157             4           100        -96   1020.0    10442 1997-02-11   \n",
              "158             4           100        -96   1020.0    10475 1997-03-14   \n",
              "159             4           100        -96    170.0    10493 1997-04-02   \n",
              "160             4           100        -96    408.0    10532 1997-05-09   \n",
              "161             4           100        -96     68.0    10682 1997-09-25   \n",
              "162             4           100        -96    850.0    10774 1997-12-11   \n",
              "\n",
              "    ShippedDate ShipCountry  ShipVia ProcessingDate  \n",
              "156  1996-09-18       Italy        2         9 days  \n",
              "157  1997-02-18     Austria        2         7 days  \n",
              "158  1997-04-04     Belgium        1        21 days  \n",
              "159  1997-04-10      France        3         8 days  \n",
              "160  1997-05-12          UK        3         3 days  \n",
              "161  1997-10-01      Mexico        2         6 days  \n",
              "162  1997-12-12      Sweden        1         1 days  "
            ]
          },
          "execution_count": 37,
          "metadata": {},
          "output_type": "execute_result"
        }
      ],
      "source": [
        "##Terdapat 7 data yang memiliki nilai RestUnits -96\n",
        "table[table['RestUnits'] == -96]"
      ]
    },
    {
      "cell_type": "code",
      "execution_count": null,
      "metadata": {
        "id": "MiIRVWa2JpGq",
        "outputId": "b26e9b4d-06bc-474c-d9a1-6ce0d70c9860"
      },
      "outputs": [
        {
          "data": {
            "text/html": [
              "<div>\n",
              "<style scoped>\n",
              "    .dataframe tbody tr th:only-of-type {\n",
              "        vertical-align: middle;\n",
              "    }\n",
              "\n",
              "    .dataframe tbody tr th {\n",
              "        vertical-align: top;\n",
              "    }\n",
              "\n",
              "    .dataframe thead th {\n",
              "        text-align: right;\n",
              "    }\n",
              "</style>\n",
              "<table border=\"1\" class=\"dataframe\">\n",
              "  <thead>\n",
              "    <tr style=\"text-align: right;\">\n",
              "      <th></th>\n",
              "      <th>SupplierID</th>\n",
              "      <th>CompanyName</th>\n",
              "      <th>ContactName</th>\n",
              "      <th>Country</th>\n",
              "      <th>ProductID</th>\n",
              "      <th>CategoryID</th>\n",
              "      <th>CategoryName</th>\n",
              "      <th>ProductName</th>\n",
              "      <th>UnitPrice</th>\n",
              "      <th>UnitsInStock</th>\n",
              "      <th>UnitsOnOrder</th>\n",
              "      <th>RestUnits</th>\n",
              "      <th>Revenue</th>\n",
              "      <th>OrderID</th>\n",
              "      <th>OrderDate</th>\n",
              "      <th>ShippedDate</th>\n",
              "      <th>ShipCountry</th>\n",
              "      <th>ShipVia</th>\n",
              "      <th>ProcessingDate</th>\n",
              "    </tr>\n",
              "  </thead>\n",
              "  <tbody>\n",
              "    <tr>\n",
              "      <th>1338</th>\n",
              "      <td>17</td>\n",
              "      <td>Svensk Sjfda AB</td>\n",
              "      <td>Michael Bjrn</td>\n",
              "      <td>Sweden</td>\n",
              "      <td>37</td>\n",
              "      <td>8</td>\n",
              "      <td>Seafood</td>\n",
              "      <td>Gravad lax</td>\n",
              "      <td>26.0</td>\n",
              "      <td>11</td>\n",
              "      <td>50</td>\n",
              "      <td>-39</td>\n",
              "      <td>26.0</td>\n",
              "      <td>10259</td>\n",
              "      <td>1996-07-18</td>\n",
              "      <td>1996-07-25</td>\n",
              "      <td>Mexico</td>\n",
              "      <td>3</td>\n",
              "      <td>7 days</td>\n",
              "    </tr>\n",
              "    <tr>\n",
              "      <th>1339</th>\n",
              "      <td>17</td>\n",
              "      <td>Svensk Sjfda AB</td>\n",
              "      <td>Michael Bjrn</td>\n",
              "      <td>Sweden</td>\n",
              "      <td>37</td>\n",
              "      <td>8</td>\n",
              "      <td>Seafood</td>\n",
              "      <td>Gravad lax</td>\n",
              "      <td>26.0</td>\n",
              "      <td>11</td>\n",
              "      <td>50</td>\n",
              "      <td>-39</td>\n",
              "      <td>728.0</td>\n",
              "      <td>10337</td>\n",
              "      <td>1996-10-24</td>\n",
              "      <td>1996-10-29</td>\n",
              "      <td>Germany</td>\n",
              "      <td>3</td>\n",
              "      <td>5 days</td>\n",
              "    </tr>\n",
              "    <tr>\n",
              "      <th>1340</th>\n",
              "      <td>17</td>\n",
              "      <td>Svensk Sjfda AB</td>\n",
              "      <td>Michael Bjrn</td>\n",
              "      <td>Sweden</td>\n",
              "      <td>37</td>\n",
              "      <td>8</td>\n",
              "      <td>Seafood</td>\n",
              "      <td>Gravad lax</td>\n",
              "      <td>26.0</td>\n",
              "      <td>11</td>\n",
              "      <td>50</td>\n",
              "      <td>-39</td>\n",
              "      <td>260.0</td>\n",
              "      <td>10408</td>\n",
              "      <td>1997-01-08</td>\n",
              "      <td>1997-01-14</td>\n",
              "      <td>France</td>\n",
              "      <td>1</td>\n",
              "      <td>6 days</td>\n",
              "    </tr>\n",
              "    <tr>\n",
              "      <th>1341</th>\n",
              "      <td>17</td>\n",
              "      <td>Svensk Sjfda AB</td>\n",
              "      <td>Michael Bjrn</td>\n",
              "      <td>Sweden</td>\n",
              "      <td>37</td>\n",
              "      <td>8</td>\n",
              "      <td>Seafood</td>\n",
              "      <td>Gravad lax</td>\n",
              "      <td>26.0</td>\n",
              "      <td>11</td>\n",
              "      <td>50</td>\n",
              "      <td>-39</td>\n",
              "      <td>468.0</td>\n",
              "      <td>10523</td>\n",
              "      <td>1997-05-01</td>\n",
              "      <td>1997-05-30</td>\n",
              "      <td>UK</td>\n",
              "      <td>2</td>\n",
              "      <td>29 days</td>\n",
              "    </tr>\n",
              "    <tr>\n",
              "      <th>1342</th>\n",
              "      <td>17</td>\n",
              "      <td>Svensk Sjfda AB</td>\n",
              "      <td>Michael Bjrn</td>\n",
              "      <td>Sweden</td>\n",
              "      <td>37</td>\n",
              "      <td>8</td>\n",
              "      <td>Seafood</td>\n",
              "      <td>Gravad lax</td>\n",
              "      <td>26.0</td>\n",
              "      <td>11</td>\n",
              "      <td>50</td>\n",
              "      <td>-39</td>\n",
              "      <td>1560.0</td>\n",
              "      <td>10847</td>\n",
              "      <td>1998-01-22</td>\n",
              "      <td>1998-02-10</td>\n",
              "      <td>USA</td>\n",
              "      <td>3</td>\n",
              "      <td>19 days</td>\n",
              "    </tr>\n",
              "    <tr>\n",
              "      <th>1343</th>\n",
              "      <td>17</td>\n",
              "      <td>Svensk Sjfda AB</td>\n",
              "      <td>Michael Bjrn</td>\n",
              "      <td>Sweden</td>\n",
              "      <td>37</td>\n",
              "      <td>8</td>\n",
              "      <td>Seafood</td>\n",
              "      <td>Gravad lax</td>\n",
              "      <td>26.0</td>\n",
              "      <td>11</td>\n",
              "      <td>50</td>\n",
              "      <td>-39</td>\n",
              "      <td>208.0</td>\n",
              "      <td>10966</td>\n",
              "      <td>1998-03-20</td>\n",
              "      <td>1998-04-08</td>\n",
              "      <td>Switzerland</td>\n",
              "      <td>1</td>\n",
              "      <td>19 days</td>\n",
              "    </tr>\n",
              "  </tbody>\n",
              "</table>\n",
              "</div>"
            ],
            "text/plain": [
              "      SupplierID      CompanyName   ContactName Country  ProductID  \\\n",
              "1338          17  Svensk Sjfda AB  Michael Bjrn  Sweden         37   \n",
              "1339          17  Svensk Sjfda AB  Michael Bjrn  Sweden         37   \n",
              "1340          17  Svensk Sjfda AB  Michael Bjrn  Sweden         37   \n",
              "1341          17  Svensk Sjfda AB  Michael Bjrn  Sweden         37   \n",
              "1342          17  Svensk Sjfda AB  Michael Bjrn  Sweden         37   \n",
              "1343          17  Svensk Sjfda AB  Michael Bjrn  Sweden         37   \n",
              "\n",
              "      CategoryID CategoryName ProductName  UnitPrice  UnitsInStock  \\\n",
              "1338           8      Seafood  Gravad lax       26.0            11   \n",
              "1339           8      Seafood  Gravad lax       26.0            11   \n",
              "1340           8      Seafood  Gravad lax       26.0            11   \n",
              "1341           8      Seafood  Gravad lax       26.0            11   \n",
              "1342           8      Seafood  Gravad lax       26.0            11   \n",
              "1343           8      Seafood  Gravad lax       26.0            11   \n",
              "\n",
              "      UnitsOnOrder  RestUnits  Revenue  OrderID  OrderDate ShippedDate  \\\n",
              "1338            50        -39     26.0    10259 1996-07-18  1996-07-25   \n",
              "1339            50        -39    728.0    10337 1996-10-24  1996-10-29   \n",
              "1340            50        -39    260.0    10408 1997-01-08  1997-01-14   \n",
              "1341            50        -39    468.0    10523 1997-05-01  1997-05-30   \n",
              "1342            50        -39   1560.0    10847 1998-01-22  1998-02-10   \n",
              "1343            50        -39    208.0    10966 1998-03-20  1998-04-08   \n",
              "\n",
              "      ShipCountry  ShipVia ProcessingDate  \n",
              "1338       Mexico        3         7 days  \n",
              "1339      Germany        3         5 days  \n",
              "1340       France        1         6 days  \n",
              "1341           UK        2        29 days  \n",
              "1342          USA        3        19 days  \n",
              "1343  Switzerland        1        19 days  "
            ]
          },
          "execution_count": 38,
          "metadata": {},
          "output_type": "execute_result"
        }
      ],
      "source": [
        "#Terdapat 6 data yang memiliki nilai RestUnits -39\n",
        "table[table['RestUnits'] == -39]"
      ]
    },
    {
      "cell_type": "markdown",
      "metadata": {
        "id": "tlsilASnuET8"
      },
      "source": [
        "## **General Info on Cleaned Data**"
      ]
    },
    {
      "cell_type": "markdown",
      "metadata": {
        "id": "lSVWmy9UubM2"
      },
      "source": [
        "Secara umum, missing value sudah tidak ada. Kolom ```UnitPrice``` dan ```Revenue``` telah memiliki tipe data float64 atau numerik sesuai dengan format data yang seharusnya. Kolom ```ProcessingDate``` memiliki tipedata timedelta. Menurut https://docs.python.org/3/library/datetime.html, timedelta berarti durasi antara dua waktu. Hal ini tentu sesuai karena kolom ini digenerate dari selisih ```ShippedDate``` dan ```OrderDate```. Data akhir menunjukkan terdapat 2082 baris data dan 18 kolom."
      ]
    },
    {
      "cell_type": "code",
      "execution_count": null,
      "metadata": {
        "id": "_W0hlhcbJpGq",
        "outputId": "0ccecbba-8d6c-4fb2-ff23-f7709a85951e"
      },
      "outputs": [
        {
          "data": {
            "text/html": [
              "<div>\n",
              "<style scoped>\n",
              "    .dataframe tbody tr th:only-of-type {\n",
              "        vertical-align: middle;\n",
              "    }\n",
              "\n",
              "    .dataframe tbody tr th {\n",
              "        vertical-align: top;\n",
              "    }\n",
              "\n",
              "    .dataframe thead th {\n",
              "        text-align: right;\n",
              "    }\n",
              "</style>\n",
              "<table border=\"1\" class=\"dataframe\">\n",
              "  <thead>\n",
              "    <tr style=\"text-align: right;\">\n",
              "      <th></th>\n",
              "      <th>Column Name</th>\n",
              "      <th>Data Type</th>\n",
              "      <th>Data Count</th>\n",
              "      <th>Missing Value</th>\n",
              "      <th>Missing Value Percentage</th>\n",
              "      <th>Number of Unique</th>\n",
              "      <th>Unique Sample</th>\n",
              "    </tr>\n",
              "  </thead>\n",
              "  <tbody>\n",
              "    <tr>\n",
              "      <th>0</th>\n",
              "      <td>SupplierID</td>\n",
              "      <td>int64</td>\n",
              "      <td>2082</td>\n",
              "      <td>0</td>\n",
              "      <td>0.0</td>\n",
              "      <td>29</td>\n",
              "      <td>[7, 28]</td>\n",
              "    </tr>\n",
              "    <tr>\n",
              "      <th>1</th>\n",
              "      <td>CompanyName</td>\n",
              "      <td>object</td>\n",
              "      <td>2082</td>\n",
              "      <td>0</td>\n",
              "      <td>0.0</td>\n",
              "      <td>29</td>\n",
              "      <td>[Cooperativa de Quesos 'Las Cabras', Heli Swar...</td>\n",
              "    </tr>\n",
              "    <tr>\n",
              "      <th>2</th>\n",
              "      <td>ContactName</td>\n",
              "      <td>object</td>\n",
              "      <td>2082</td>\n",
              "      <td>0</td>\n",
              "      <td>0.0</td>\n",
              "      <td>29</td>\n",
              "      <td>[Peter Wilson, Shelley Burke]</td>\n",
              "    </tr>\n",
              "    <tr>\n",
              "      <th>3</th>\n",
              "      <td>Country</td>\n",
              "      <td>object</td>\n",
              "      <td>2082</td>\n",
              "      <td>0</td>\n",
              "      <td>0.0</td>\n",
              "      <td>17</td>\n",
              "      <td>[Finland, Spain]</td>\n",
              "    </tr>\n",
              "    <tr>\n",
              "      <th>4</th>\n",
              "      <td>ProductID</td>\n",
              "      <td>int64</td>\n",
              "      <td>2082</td>\n",
              "      <td>0</td>\n",
              "      <td>0.0</td>\n",
              "      <td>77</td>\n",
              "      <td>[51, 7]</td>\n",
              "    </tr>\n",
              "    <tr>\n",
              "      <th>5</th>\n",
              "      <td>CategoryID</td>\n",
              "      <td>int64</td>\n",
              "      <td>2082</td>\n",
              "      <td>0</td>\n",
              "      <td>0.0</td>\n",
              "      <td>8</td>\n",
              "      <td>[8, 1]</td>\n",
              "    </tr>\n",
              "    <tr>\n",
              "      <th>6</th>\n",
              "      <td>CategoryName</td>\n",
              "      <td>object</td>\n",
              "      <td>2082</td>\n",
              "      <td>0</td>\n",
              "      <td>0.0</td>\n",
              "      <td>8</td>\n",
              "      <td>[Confections, Beverages]</td>\n",
              "    </tr>\n",
              "    <tr>\n",
              "      <th>7</th>\n",
              "      <td>ProductName</td>\n",
              "      <td>object</td>\n",
              "      <td>2082</td>\n",
              "      <td>0</td>\n",
              "      <td>0.0</td>\n",
              "      <td>77</td>\n",
              "      <td>[Konbu, Lakkalikri]</td>\n",
              "    </tr>\n",
              "    <tr>\n",
              "      <th>8</th>\n",
              "      <td>UnitPrice</td>\n",
              "      <td>float64</td>\n",
              "      <td>2082</td>\n",
              "      <td>0</td>\n",
              "      <td>0.0</td>\n",
              "      <td>62</td>\n",
              "      <td>[39.0, 43.9]</td>\n",
              "    </tr>\n",
              "    <tr>\n",
              "      <th>9</th>\n",
              "      <td>UnitsInStock</td>\n",
              "      <td>int64</td>\n",
              "      <td>2082</td>\n",
              "      <td>0</td>\n",
              "      <td>0.0</td>\n",
              "      <td>51</td>\n",
              "      <td>[38, 31]</td>\n",
              "    </tr>\n",
              "    <tr>\n",
              "      <th>10</th>\n",
              "      <td>UnitsOnOrder</td>\n",
              "      <td>int64</td>\n",
              "      <td>2082</td>\n",
              "      <td>0</td>\n",
              "      <td>0.0</td>\n",
              "      <td>10</td>\n",
              "      <td>[20, 30]</td>\n",
              "    </tr>\n",
              "    <tr>\n",
              "      <th>11</th>\n",
              "      <td>RestUnits</td>\n",
              "      <td>int64</td>\n",
              "      <td>2082</td>\n",
              "      <td>0</td>\n",
              "      <td>0.0</td>\n",
              "      <td>61</td>\n",
              "      <td>[21, 40]</td>\n",
              "    </tr>\n",
              "    <tr>\n",
              "      <th>12</th>\n",
              "      <td>Revenue</td>\n",
              "      <td>float64</td>\n",
              "      <td>2082</td>\n",
              "      <td>0</td>\n",
              "      <td>0.0</td>\n",
              "      <td>709</td>\n",
              "      <td>[591.6, 387.5]</td>\n",
              "    </tr>\n",
              "    <tr>\n",
              "      <th>13</th>\n",
              "      <td>OrderID</td>\n",
              "      <td>int64</td>\n",
              "      <td>2082</td>\n",
              "      <td>0</td>\n",
              "      <td>0.0</td>\n",
              "      <td>809</td>\n",
              "      <td>[10784, 10956]</td>\n",
              "    </tr>\n",
              "    <tr>\n",
              "      <th>14</th>\n",
              "      <td>OrderDate</td>\n",
              "      <td>datetime64[ns]</td>\n",
              "      <td>2082</td>\n",
              "      <td>0</td>\n",
              "      <td>0.0</td>\n",
              "      <td>478</td>\n",
              "      <td>[1997-04-23T00:00:00.000000000, 1997-10-15T00:...</td>\n",
              "    </tr>\n",
              "    <tr>\n",
              "      <th>15</th>\n",
              "      <td>ShippedDate</td>\n",
              "      <td>datetime64[ns]</td>\n",
              "      <td>2082</td>\n",
              "      <td>0</td>\n",
              "      <td>0.0</td>\n",
              "      <td>387</td>\n",
              "      <td>[1998-01-07T00:00:00.000000000, 1997-02-26T00:...</td>\n",
              "    </tr>\n",
              "    <tr>\n",
              "      <th>16</th>\n",
              "      <td>ShipCountry</td>\n",
              "      <td>object</td>\n",
              "      <td>2082</td>\n",
              "      <td>0</td>\n",
              "      <td>0.0</td>\n",
              "      <td>21</td>\n",
              "      <td>[Sweden, Portugal]</td>\n",
              "    </tr>\n",
              "    <tr>\n",
              "      <th>17</th>\n",
              "      <td>ShipVia</td>\n",
              "      <td>int64</td>\n",
              "      <td>2082</td>\n",
              "      <td>0</td>\n",
              "      <td>0.0</td>\n",
              "      <td>3</td>\n",
              "      <td>[1, 3]</td>\n",
              "    </tr>\n",
              "    <tr>\n",
              "      <th>18</th>\n",
              "      <td>ProcessingDate</td>\n",
              "      <td>timedelta64[ns]</td>\n",
              "      <td>2082</td>\n",
              "      <td>0</td>\n",
              "      <td>0.0</td>\n",
              "      <td>35</td>\n",
              "      <td>[1555200000000000 nanoseconds, 172800000000000...</td>\n",
              "    </tr>\n",
              "  </tbody>\n",
              "</table>\n",
              "</div>"
            ],
            "text/plain": [
              "       Column Name        Data Type  Data Count  Missing Value  \\\n",
              "0       SupplierID            int64        2082              0   \n",
              "1      CompanyName           object        2082              0   \n",
              "2      ContactName           object        2082              0   \n",
              "3          Country           object        2082              0   \n",
              "4        ProductID            int64        2082              0   \n",
              "5       CategoryID            int64        2082              0   \n",
              "6     CategoryName           object        2082              0   \n",
              "7      ProductName           object        2082              0   \n",
              "8        UnitPrice          float64        2082              0   \n",
              "9     UnitsInStock            int64        2082              0   \n",
              "10    UnitsOnOrder            int64        2082              0   \n",
              "11       RestUnits            int64        2082              0   \n",
              "12         Revenue          float64        2082              0   \n",
              "13         OrderID            int64        2082              0   \n",
              "14       OrderDate   datetime64[ns]        2082              0   \n",
              "15     ShippedDate   datetime64[ns]        2082              0   \n",
              "16     ShipCountry           object        2082              0   \n",
              "17         ShipVia            int64        2082              0   \n",
              "18  ProcessingDate  timedelta64[ns]        2082              0   \n",
              "\n",
              "    Missing Value Percentage  Number of Unique  \\\n",
              "0                        0.0                29   \n",
              "1                        0.0                29   \n",
              "2                        0.0                29   \n",
              "3                        0.0                17   \n",
              "4                        0.0                77   \n",
              "5                        0.0                 8   \n",
              "6                        0.0                 8   \n",
              "7                        0.0                77   \n",
              "8                        0.0                62   \n",
              "9                        0.0                51   \n",
              "10                       0.0                10   \n",
              "11                       0.0                61   \n",
              "12                       0.0               709   \n",
              "13                       0.0               809   \n",
              "14                       0.0               478   \n",
              "15                       0.0               387   \n",
              "16                       0.0                21   \n",
              "17                       0.0                 3   \n",
              "18                       0.0                35   \n",
              "\n",
              "                                        Unique Sample  \n",
              "0                                             [7, 28]  \n",
              "1   [Cooperativa de Quesos 'Las Cabras', Heli Swar...  \n",
              "2                       [Peter Wilson, Shelley Burke]  \n",
              "3                                    [Finland, Spain]  \n",
              "4                                             [51, 7]  \n",
              "5                                              [8, 1]  \n",
              "6                            [Confections, Beverages]  \n",
              "7                                 [Konbu, Lakkalikri]  \n",
              "8                                        [39.0, 43.9]  \n",
              "9                                            [38, 31]  \n",
              "10                                           [20, 30]  \n",
              "11                                           [21, 40]  \n",
              "12                                     [591.6, 387.5]  \n",
              "13                                     [10784, 10956]  \n",
              "14  [1997-04-23T00:00:00.000000000, 1997-10-15T00:...  \n",
              "15  [1998-01-07T00:00:00.000000000, 1997-02-26T00:...  \n",
              "16                                 [Sweden, Portugal]  \n",
              "17                                             [1, 3]  \n",
              "18  [1555200000000000 nanoseconds, 172800000000000...  "
            ]
          },
          "execution_count": 39,
          "metadata": {},
          "output_type": "execute_result"
        }
      ],
      "source": [
        "listItem = []\n",
        "for col in table.columns :\n",
        "    listItem.append([col, table[col].dtype, len(table),table[col].isna().sum(), round((table[col].isna().sum()/len(table[col])) * 100,2),\n",
        "                    table[col].nunique(), list(table[col].drop_duplicates().sample(2).values)])\n",
        "\n",
        "tabel1Desc = pd.DataFrame(columns=['Column Name', 'Data Type', 'Data Count', 'Missing Value', \n",
        "    'Missing Value Percentage', 'Number of Unique', 'Unique Sample'],\n",
        "                     data=listItem)\n",
        "tabel1Desc"
      ]
    },
    {
      "cell_type": "code",
      "execution_count": null,
      "metadata": {
        "id": "dlAYn5LcJpGr",
        "outputId": "55c2c9b2-47b6-4f2e-e0a7-dedb1ecb10a4"
      },
      "outputs": [
        {
          "data": {
            "text/html": [
              "<div>\n",
              "<style scoped>\n",
              "    .dataframe tbody tr th:only-of-type {\n",
              "        vertical-align: middle;\n",
              "    }\n",
              "\n",
              "    .dataframe tbody tr th {\n",
              "        vertical-align: top;\n",
              "    }\n",
              "\n",
              "    .dataframe thead th {\n",
              "        text-align: right;\n",
              "    }\n",
              "</style>\n",
              "<table border=\"1\" class=\"dataframe\">\n",
              "  <thead>\n",
              "    <tr style=\"text-align: right;\">\n",
              "      <th></th>\n",
              "      <th>SupplierID</th>\n",
              "      <th>ProductID</th>\n",
              "      <th>CategoryID</th>\n",
              "      <th>UnitPrice</th>\n",
              "      <th>UnitsInStock</th>\n",
              "      <th>UnitsOnOrder</th>\n",
              "      <th>RestUnits</th>\n",
              "      <th>Revenue</th>\n",
              "      <th>OrderID</th>\n",
              "      <th>ShipVia</th>\n",
              "      <th>ProcessingDate</th>\n",
              "    </tr>\n",
              "  </thead>\n",
              "  <tbody>\n",
              "    <tr>\n",
              "      <th>count</th>\n",
              "      <td>2082.000000</td>\n",
              "      <td>2082.000000</td>\n",
              "      <td>2082.000000</td>\n",
              "      <td>2082.000000</td>\n",
              "      <td>2082.000000</td>\n",
              "      <td>2082.000000</td>\n",
              "      <td>2082.000000</td>\n",
              "      <td>2082.000000</td>\n",
              "      <td>2082.000000</td>\n",
              "      <td>2082.000000</td>\n",
              "      <td>2082</td>\n",
              "    </tr>\n",
              "    <tr>\n",
              "      <th>mean</th>\n",
              "      <td>14.548511</td>\n",
              "      <td>41.007205</td>\n",
              "      <td>4.136407</td>\n",
              "      <td>28.170331</td>\n",
              "      <td>39.762728</td>\n",
              "      <td>7.949087</td>\n",
              "      <td>31.813641</td>\n",
              "      <td>682.960399</td>\n",
              "      <td>10645.182517</td>\n",
              "      <td>1.999039</td>\n",
              "      <td>8 days 08:17:17.463976945</td>\n",
              "    </tr>\n",
              "    <tr>\n",
              "      <th>std</th>\n",
              "      <td>8.216075</td>\n",
              "      <td>22.091232</td>\n",
              "      <td>2.374911</td>\n",
              "      <td>32.034842</td>\n",
              "      <td>36.062315</td>\n",
              "      <td>19.569399</td>\n",
              "      <td>46.364671</td>\n",
              "      <td>1121.103980</td>\n",
              "      <td>233.122319</td>\n",
              "      <td>0.781206</td>\n",
              "      <td>6 days 16:37:41.880301151</td>\n",
              "    </tr>\n",
              "    <tr>\n",
              "      <th>min</th>\n",
              "      <td>1.000000</td>\n",
              "      <td>1.000000</td>\n",
              "      <td>1.000000</td>\n",
              "      <td>2.500000</td>\n",
              "      <td>0.000000</td>\n",
              "      <td>0.000000</td>\n",
              "      <td>-96.000000</td>\n",
              "      <td>6.000000</td>\n",
              "      <td>10248.000000</td>\n",
              "      <td>1.000000</td>\n",
              "      <td>1 days 00:00:00</td>\n",
              "    </tr>\n",
              "    <tr>\n",
              "      <th>25%</th>\n",
              "      <td>7.000000</td>\n",
              "      <td>22.250000</td>\n",
              "      <td>2.000000</td>\n",
              "      <td>12.500000</td>\n",
              "      <td>17.000000</td>\n",
              "      <td>0.000000</td>\n",
              "      <td>10.000000</td>\n",
              "      <td>180.000000</td>\n",
              "      <td>10444.000000</td>\n",
              "      <td>1.000000</td>\n",
              "      <td>4 days 00:00:00</td>\n",
              "    </tr>\n",
              "    <tr>\n",
              "      <th>50%</th>\n",
              "      <td>14.000000</td>\n",
              "      <td>41.000000</td>\n",
              "      <td>4.000000</td>\n",
              "      <td>19.450000</td>\n",
              "      <td>25.000000</td>\n",
              "      <td>0.000000</td>\n",
              "      <td>25.000000</td>\n",
              "      <td>385.700000</td>\n",
              "      <td>10643.000000</td>\n",
              "      <td>2.000000</td>\n",
              "      <td>7 days 00:00:00</td>\n",
              "    </tr>\n",
              "    <tr>\n",
              "      <th>75%</th>\n",
              "      <td>21.000000</td>\n",
              "      <td>60.000000</td>\n",
              "      <td>6.000000</td>\n",
              "      <td>34.000000</td>\n",
              "      <td>57.000000</td>\n",
              "      <td>0.000000</td>\n",
              "      <td>57.000000</td>\n",
              "      <td>772.600000</td>\n",
              "      <td>10844.750000</td>\n",
              "      <td>3.000000</td>\n",
              "      <td>9 days 00:00:00</td>\n",
              "    </tr>\n",
              "    <tr>\n",
              "      <th>max</th>\n",
              "      <td>29.000000</td>\n",
              "      <td>77.000000</td>\n",
              "      <td>8.000000</td>\n",
              "      <td>263.500000</td>\n",
              "      <td>125.000000</td>\n",
              "      <td>100.000000</td>\n",
              "      <td>125.000000</td>\n",
              "      <td>15810.000000</td>\n",
              "      <td>11069.000000</td>\n",
              "      <td>3.000000</td>\n",
              "      <td>37 days 00:00:00</td>\n",
              "    </tr>\n",
              "  </tbody>\n",
              "</table>\n",
              "</div>"
            ],
            "text/plain": [
              "        SupplierID    ProductID   CategoryID    UnitPrice  UnitsInStock  \\\n",
              "count  2082.000000  2082.000000  2082.000000  2082.000000   2082.000000   \n",
              "mean     14.548511    41.007205     4.136407    28.170331     39.762728   \n",
              "std       8.216075    22.091232     2.374911    32.034842     36.062315   \n",
              "min       1.000000     1.000000     1.000000     2.500000      0.000000   \n",
              "25%       7.000000    22.250000     2.000000    12.500000     17.000000   \n",
              "50%      14.000000    41.000000     4.000000    19.450000     25.000000   \n",
              "75%      21.000000    60.000000     6.000000    34.000000     57.000000   \n",
              "max      29.000000    77.000000     8.000000   263.500000    125.000000   \n",
              "\n",
              "       UnitsOnOrder    RestUnits       Revenue       OrderID      ShipVia  \\\n",
              "count   2082.000000  2082.000000   2082.000000   2082.000000  2082.000000   \n",
              "mean       7.949087    31.813641    682.960399  10645.182517     1.999039   \n",
              "std       19.569399    46.364671   1121.103980    233.122319     0.781206   \n",
              "min        0.000000   -96.000000      6.000000  10248.000000     1.000000   \n",
              "25%        0.000000    10.000000    180.000000  10444.000000     1.000000   \n",
              "50%        0.000000    25.000000    385.700000  10643.000000     2.000000   \n",
              "75%        0.000000    57.000000    772.600000  10844.750000     3.000000   \n",
              "max      100.000000   125.000000  15810.000000  11069.000000     3.000000   \n",
              "\n",
              "                  ProcessingDate  \n",
              "count                       2082  \n",
              "mean   8 days 08:17:17.463976945  \n",
              "std    6 days 16:37:41.880301151  \n",
              "min              1 days 00:00:00  \n",
              "25%              4 days 00:00:00  \n",
              "50%              7 days 00:00:00  \n",
              "75%              9 days 00:00:00  \n",
              "max             37 days 00:00:00  "
            ]
          },
          "execution_count": 40,
          "metadata": {},
          "output_type": "execute_result"
        }
      ],
      "source": [
        "table.describe()"
      ]
    },
    {
      "cell_type": "markdown",
      "metadata": {
        "id": "ZE6lrdtOvuv0"
      },
      "source": [
        "## **Outlier**"
      ]
    },
    {
      "cell_type": "markdown",
      "metadata": {
        "id": "Y9enXpBav7TF"
      },
      "source": [
        "Pada bagian ini, kita akan menganalisis data ```Revenue```. Apakah terdapat data *outlier* dalam kolom ```Revenue```. Secara ringkas, Q3 adalah 772 dollar, dan Q1 adalah 180 dollar. Setelah dilakukan perhitungan dengan nilai outlier > Q3+(1.5 x IQR) atau outlier < Q1 - (1.5 x IQR), diketahui bahwa terdapat 161 baris data yang merupakan outlier. Untuk saat ini tidak dilakukan tindakan apapun, karena nilai outlier masih bermanfaat untuk visualisasi di tahap selanjutnya. "
      ]
    },
    {
      "cell_type": "code",
      "execution_count": null,
      "metadata": {
        "id": "vSQT5nuVJpGr",
        "outputId": "cb9d786c-9268-44b2-bb3d-ae605e1bb08f"
      },
      "outputs": [
        {
          "data": {
            "text/plain": [
              "count     2082.000000\n",
              "mean       682.960399\n",
              "std       1121.103980\n",
              "min          6.000000\n",
              "25%        180.000000\n",
              "50%        385.700000\n",
              "75%        772.600000\n",
              "max      15810.000000\n",
              "Name: Revenue, dtype: float64"
            ]
          },
          "execution_count": 41,
          "metadata": {},
          "output_type": "execute_result"
        }
      ],
      "source": [
        "table['Revenue'].describe()"
      ]
    },
    {
      "cell_type": "code",
      "execution_count": null,
      "metadata": {
        "id": "H6WR7_DyJpGr",
        "outputId": "b0b50fc3-0026-48de-ab42-c9533a7b844a"
      },
      "outputs": [
        {
          "data": {
            "text/html": [
              "<div>\n",
              "<style scoped>\n",
              "    .dataframe tbody tr th:only-of-type {\n",
              "        vertical-align: middle;\n",
              "    }\n",
              "\n",
              "    .dataframe tbody tr th {\n",
              "        vertical-align: top;\n",
              "    }\n",
              "\n",
              "    .dataframe thead th {\n",
              "        text-align: right;\n",
              "    }\n",
              "</style>\n",
              "<table border=\"1\" class=\"dataframe\">\n",
              "  <thead>\n",
              "    <tr style=\"text-align: right;\">\n",
              "      <th></th>\n",
              "      <th>SupplierID</th>\n",
              "      <th>CompanyName</th>\n",
              "      <th>ContactName</th>\n",
              "      <th>Country</th>\n",
              "      <th>ProductID</th>\n",
              "      <th>CategoryID</th>\n",
              "      <th>CategoryName</th>\n",
              "      <th>ProductName</th>\n",
              "      <th>UnitPrice</th>\n",
              "      <th>UnitsInStock</th>\n",
              "      <th>UnitsOnOrder</th>\n",
              "      <th>RestUnits</th>\n",
              "      <th>Revenue</th>\n",
              "      <th>OrderID</th>\n",
              "      <th>OrderDate</th>\n",
              "      <th>ShippedDate</th>\n",
              "      <th>ShipCountry</th>\n",
              "      <th>ShipVia</th>\n",
              "      <th>ProcessingDate</th>\n",
              "    </tr>\n",
              "  </thead>\n",
              "  <tbody>\n",
              "    <tr>\n",
              "      <th>75</th>\n",
              "      <td>1</td>\n",
              "      <td>Exotic Liquids</td>\n",
              "      <td>Charlotte Cooper</td>\n",
              "      <td>UK</td>\n",
              "      <td>2</td>\n",
              "      <td>1</td>\n",
              "      <td>Beverages</td>\n",
              "      <td>Chang</td>\n",
              "      <td>19.00</td>\n",
              "      <td>17</td>\n",
              "      <td>40</td>\n",
              "      <td>-23</td>\n",
              "      <td>1900.0</td>\n",
              "      <td>11030</td>\n",
              "      <td>1998-04-17</td>\n",
              "      <td>1998-04-27</td>\n",
              "      <td>USA</td>\n",
              "      <td>2</td>\n",
              "      <td>10 days</td>\n",
              "    </tr>\n",
              "    <tr>\n",
              "      <th>148</th>\n",
              "      <td>2</td>\n",
              "      <td>New Orleans Cajun Delights</td>\n",
              "      <td>Shelley Burke</td>\n",
              "      <td>USA</td>\n",
              "      <td>65</td>\n",
              "      <td>2</td>\n",
              "      <td>Condiments</td>\n",
              "      <td>Louisiana Fiery Hot Pepper Sauce</td>\n",
              "      <td>21.05</td>\n",
              "      <td>76</td>\n",
              "      <td>0</td>\n",
              "      <td>76</td>\n",
              "      <td>1684.0</td>\n",
              "      <td>10765</td>\n",
              "      <td>1997-12-04</td>\n",
              "      <td>1997-12-09</td>\n",
              "      <td>Germany</td>\n",
              "      <td>3</td>\n",
              "      <td>5 days</td>\n",
              "    </tr>\n",
              "    <tr>\n",
              "      <th>166</th>\n",
              "      <td>3</td>\n",
              "      <td>Grandma Kelly's Homestead</td>\n",
              "      <td>Regina Murphy</td>\n",
              "      <td>USA</td>\n",
              "      <td>6</td>\n",
              "      <td>2</td>\n",
              "      <td>Condiments</td>\n",
              "      <td>Grandma's Boysenberry Spread</td>\n",
              "      <td>25.00</td>\n",
              "      <td>120</td>\n",
              "      <td>0</td>\n",
              "      <td>120</td>\n",
              "      <td>1750.0</td>\n",
              "      <td>10618</td>\n",
              "      <td>1997-08-01</td>\n",
              "      <td>1997-08-08</td>\n",
              "      <td>Canada</td>\n",
              "      <td>1</td>\n",
              "      <td>7 days</td>\n",
              "    </tr>\n",
              "    <tr>\n",
              "      <th>185</th>\n",
              "      <td>3</td>\n",
              "      <td>Grandma Kelly's Homestead</td>\n",
              "      <td>Regina Murphy</td>\n",
              "      <td>USA</td>\n",
              "      <td>7</td>\n",
              "      <td>7</td>\n",
              "      <td>Produce</td>\n",
              "      <td>Uncle Bob's Organic Dried Pears</td>\n",
              "      <td>30.00</td>\n",
              "      <td>15</td>\n",
              "      <td>0</td>\n",
              "      <td>15</td>\n",
              "      <td>2700.0</td>\n",
              "      <td>10694</td>\n",
              "      <td>1997-10-06</td>\n",
              "      <td>1997-10-09</td>\n",
              "      <td>Germany</td>\n",
              "      <td>3</td>\n",
              "      <td>3 days</td>\n",
              "    </tr>\n",
              "    <tr>\n",
              "      <th>197</th>\n",
              "      <td>3</td>\n",
              "      <td>Grandma Kelly's Homestead</td>\n",
              "      <td>Regina Murphy</td>\n",
              "      <td>USA</td>\n",
              "      <td>7</td>\n",
              "      <td>7</td>\n",
              "      <td>Produce</td>\n",
              "      <td>Uncle Bob's Organic Dried Pears</td>\n",
              "      <td>30.00</td>\n",
              "      <td>15</td>\n",
              "      <td>0</td>\n",
              "      <td>15</td>\n",
              "      <td>1800.0</td>\n",
              "      <td>10987</td>\n",
              "      <td>1998-03-31</td>\n",
              "      <td>1998-04-06</td>\n",
              "      <td>UK</td>\n",
              "      <td>1</td>\n",
              "      <td>6 days</td>\n",
              "    </tr>\n",
              "    <tr>\n",
              "      <th>...</th>\n",
              "      <td>...</td>\n",
              "      <td>...</td>\n",
              "      <td>...</td>\n",
              "      <td>...</td>\n",
              "      <td>...</td>\n",
              "      <td>...</td>\n",
              "      <td>...</td>\n",
              "      <td>...</td>\n",
              "      <td>...</td>\n",
              "      <td>...</td>\n",
              "      <td>...</td>\n",
              "      <td>...</td>\n",
              "      <td>...</td>\n",
              "      <td>...</td>\n",
              "      <td>...</td>\n",
              "      <td>...</td>\n",
              "      <td>...</td>\n",
              "      <td>...</td>\n",
              "      <td>...</td>\n",
              "    </tr>\n",
              "    <tr>\n",
              "      <th>2132</th>\n",
              "      <td>29</td>\n",
              "      <td>Forts d'rables</td>\n",
              "      <td>Chantal Goulet</td>\n",
              "      <td>Canada</td>\n",
              "      <td>62</td>\n",
              "      <td>3</td>\n",
              "      <td>Confections</td>\n",
              "      <td>Tarte au sucre</td>\n",
              "      <td>49.30</td>\n",
              "      <td>17</td>\n",
              "      <td>0</td>\n",
              "      <td>17</td>\n",
              "      <td>2366.4</td>\n",
              "      <td>10691</td>\n",
              "      <td>1997-10-03</td>\n",
              "      <td>1997-10-22</td>\n",
              "      <td>Germany</td>\n",
              "      <td>2</td>\n",
              "      <td>19 days</td>\n",
              "    </tr>\n",
              "    <tr>\n",
              "      <th>2143</th>\n",
              "      <td>29</td>\n",
              "      <td>Forts d'rables</td>\n",
              "      <td>Chantal Goulet</td>\n",
              "      <td>Canada</td>\n",
              "      <td>62</td>\n",
              "      <td>3</td>\n",
              "      <td>Confections</td>\n",
              "      <td>Tarte au sucre</td>\n",
              "      <td>49.30</td>\n",
              "      <td>17</td>\n",
              "      <td>0</td>\n",
              "      <td>17</td>\n",
              "      <td>2465.0</td>\n",
              "      <td>10852</td>\n",
              "      <td>1998-01-26</td>\n",
              "      <td>1998-01-30</td>\n",
              "      <td>USA</td>\n",
              "      <td>1</td>\n",
              "      <td>4 days</td>\n",
              "    </tr>\n",
              "    <tr>\n",
              "      <th>2147</th>\n",
              "      <td>29</td>\n",
              "      <td>Forts d'rables</td>\n",
              "      <td>Chantal Goulet</td>\n",
              "      <td>Canada</td>\n",
              "      <td>62</td>\n",
              "      <td>3</td>\n",
              "      <td>Confections</td>\n",
              "      <td>Tarte au sucre</td>\n",
              "      <td>49.30</td>\n",
              "      <td>17</td>\n",
              "      <td>0</td>\n",
              "      <td>17</td>\n",
              "      <td>1725.5</td>\n",
              "      <td>10904</td>\n",
              "      <td>1998-02-24</td>\n",
              "      <td>1998-02-27</td>\n",
              "      <td>USA</td>\n",
              "      <td>3</td>\n",
              "      <td>3 days</td>\n",
              "    </tr>\n",
              "    <tr>\n",
              "      <th>2150</th>\n",
              "      <td>29</td>\n",
              "      <td>Forts d'rables</td>\n",
              "      <td>Chantal Goulet</td>\n",
              "      <td>Canada</td>\n",
              "      <td>62</td>\n",
              "      <td>3</td>\n",
              "      <td>Confections</td>\n",
              "      <td>Tarte au sucre</td>\n",
              "      <td>49.30</td>\n",
              "      <td>17</td>\n",
              "      <td>0</td>\n",
              "      <td>17</td>\n",
              "      <td>2958.0</td>\n",
              "      <td>10949</td>\n",
              "      <td>1998-03-13</td>\n",
              "      <td>1998-03-17</td>\n",
              "      <td>Canada</td>\n",
              "      <td>3</td>\n",
              "      <td>4 days</td>\n",
              "    </tr>\n",
              "    <tr>\n",
              "      <th>2152</th>\n",
              "      <td>29</td>\n",
              "      <td>Forts d'rables</td>\n",
              "      <td>Chantal Goulet</td>\n",
              "      <td>Canada</td>\n",
              "      <td>62</td>\n",
              "      <td>3</td>\n",
              "      <td>Confections</td>\n",
              "      <td>Tarte au sucre</td>\n",
              "      <td>49.30</td>\n",
              "      <td>17</td>\n",
              "      <td>0</td>\n",
              "      <td>17</td>\n",
              "      <td>1972.0</td>\n",
              "      <td>10988</td>\n",
              "      <td>1998-03-31</td>\n",
              "      <td>1998-04-10</td>\n",
              "      <td>USA</td>\n",
              "      <td>2</td>\n",
              "      <td>10 days</td>\n",
              "    </tr>\n",
              "  </tbody>\n",
              "</table>\n",
              "<p>161 rows × 19 columns</p>\n",
              "</div>"
            ],
            "text/plain": [
              "      SupplierID                 CompanyName       ContactName Country  \\\n",
              "75             1              Exotic Liquids  Charlotte Cooper      UK   \n",
              "148            2  New Orleans Cajun Delights     Shelley Burke     USA   \n",
              "166            3   Grandma Kelly's Homestead     Regina Murphy     USA   \n",
              "185            3   Grandma Kelly's Homestead     Regina Murphy     USA   \n",
              "197            3   Grandma Kelly's Homestead     Regina Murphy     USA   \n",
              "...          ...                         ...               ...     ...   \n",
              "2132          29              Forts d'rables    Chantal Goulet  Canada   \n",
              "2143          29              Forts d'rables    Chantal Goulet  Canada   \n",
              "2147          29              Forts d'rables    Chantal Goulet  Canada   \n",
              "2150          29              Forts d'rables    Chantal Goulet  Canada   \n",
              "2152          29              Forts d'rables    Chantal Goulet  Canada   \n",
              "\n",
              "      ProductID  CategoryID CategoryName                       ProductName  \\\n",
              "75            2           1    Beverages                             Chang   \n",
              "148          65           2   Condiments  Louisiana Fiery Hot Pepper Sauce   \n",
              "166           6           2   Condiments      Grandma's Boysenberry Spread   \n",
              "185           7           7      Produce   Uncle Bob's Organic Dried Pears   \n",
              "197           7           7      Produce   Uncle Bob's Organic Dried Pears   \n",
              "...         ...         ...          ...                               ...   \n",
              "2132         62           3  Confections                    Tarte au sucre   \n",
              "2143         62           3  Confections                    Tarte au sucre   \n",
              "2147         62           3  Confections                    Tarte au sucre   \n",
              "2150         62           3  Confections                    Tarte au sucre   \n",
              "2152         62           3  Confections                    Tarte au sucre   \n",
              "\n",
              "      UnitPrice  UnitsInStock  UnitsOnOrder  RestUnits  Revenue  OrderID  \\\n",
              "75        19.00            17            40        -23   1900.0    11030   \n",
              "148       21.05            76             0         76   1684.0    10765   \n",
              "166       25.00           120             0        120   1750.0    10618   \n",
              "185       30.00            15             0         15   2700.0    10694   \n",
              "197       30.00            15             0         15   1800.0    10987   \n",
              "...         ...           ...           ...        ...      ...      ...   \n",
              "2132      49.30            17             0         17   2366.4    10691   \n",
              "2143      49.30            17             0         17   2465.0    10852   \n",
              "2147      49.30            17             0         17   1725.5    10904   \n",
              "2150      49.30            17             0         17   2958.0    10949   \n",
              "2152      49.30            17             0         17   1972.0    10988   \n",
              "\n",
              "      OrderDate ShippedDate ShipCountry  ShipVia ProcessingDate  \n",
              "75   1998-04-17  1998-04-27         USA        2        10 days  \n",
              "148  1997-12-04  1997-12-09     Germany        3         5 days  \n",
              "166  1997-08-01  1997-08-08      Canada        1         7 days  \n",
              "185  1997-10-06  1997-10-09     Germany        3         3 days  \n",
              "197  1998-03-31  1998-04-06          UK        1         6 days  \n",
              "...         ...         ...         ...      ...            ...  \n",
              "2132 1997-10-03  1997-10-22     Germany        2        19 days  \n",
              "2143 1998-01-26  1998-01-30         USA        1         4 days  \n",
              "2147 1998-02-24  1998-02-27         USA        3         3 days  \n",
              "2150 1998-03-13  1998-03-17      Canada        3         4 days  \n",
              "2152 1998-03-31  1998-04-10         USA        2        10 days  \n",
              "\n",
              "[161 rows x 19 columns]"
            ]
          },
          "execution_count": 42,
          "metadata": {},
          "output_type": "execute_result"
        }
      ],
      "source": [
        "Q1_amount = table['Revenue'].describe()['25%']\n",
        "Q3_amount = table['Revenue'].describe()['75%']\n",
        "iqr = Q3_amount - Q1_amount\n",
        "\n",
        "outlier_index = table[(table['Revenue'] < Q1_amount - (1.5 * iqr)) | (table['Revenue']> Q3_amount + (1.5 * iqr)) ].index\n",
        "not_outlier_index = table[(table['Revenue'] > Q1_amount - (1.5 * iqr)) & (table['Revenue']< Q3_amount + (1.5 * iqr)) ].index\n",
        "table.loc[outlier_index]"
      ]
    },
    {
      "cell_type": "markdown",
      "metadata": {
        "id": "ergnHSohJpGr"
      },
      "source": [
        "##  **Data Visualization**"
      ]
    },
    {
      "cell_type": "markdown",
      "metadata": {
        "id": "SKzxBqauWPDW"
      },
      "source": [
        "Setelah mendapatkan data yang sudah bersih dan siap digunakan. Langkah selanjutnya adalah memvisualisasi data untuk didapatken business insightnya sehingga dapat memberikan gambaran kepada Northwind Traders mengenai produk yang dijualnya di berbagai negara. Dari insight tersebut, akan dijelaskan strategi-strategi yang dapat meningkatkan revenue atau pendapatan."
      ]
    },
    {
      "cell_type": "markdown",
      "metadata": {
        "id": "Hnv86z9jbS-G"
      },
      "source": [
        "## Proporsi Pengiriman Via Jalur 1,2 dan 3"
      ]
    },
    {
      "cell_type": "markdown",
      "metadata": {
        "id": "ZgUDmCmNbhLa"
      },
      "source": [
        "Terlihat pada grafik ini, 39% kontainer dikirimkan via jalur 2. 30,55% kontainer dikirimkan via jalur 1. Serta 30,45% dikirimkan via jalur 2. Permasalahannya tidak dijelaskan apakah jalur 1,2, dan 3 merupakan jalur darat, laut, dan udara sehingga sulit untuk menjelaskan mana jalur yang terbaik untuk pengiriman. \n",
        "Proporsi pengiriman secara rata-rata seimbang. Namun demikian, kontainer banyak dikirimkan via jalur kedua"
      ]
    },
    {
      "cell_type": "code",
      "execution_count": null,
      "metadata": {
        "id": "8bf7IqWHJpGs",
        "outputId": "05b81c14-0957-4a13-8d9d-367df1802adf"
      },
      "outputs": [
        {
          "data": {
            "image/png": "[encoded data removed]",
            "text/plain": [
              "<Figure size 720x1080 with 1 Axes>"
            ]
          },
          "metadata": {},
          "output_type": "display_data"
        }
      ],
      "source": [
        "# Pie Chart Status\n",
        "\n",
        "plt.style.use('seaborn')\n",
        "plt.figure(figsize=(10,15))\n",
        "plt.pie(table['ShipVia'].value_counts().values,  autopct='%.2f%%',\n",
        "     explode= (0.1,0.2,0.1),textprops={'fontsize': 20}, shadow=True)\n",
        "plt.title ('Proporsi Pengiriman Via Jalur 1,2, dan 3', size = 30)\n",
        "plt.legend(table['ShipVia'].unique())\n",
        "plt.show()"
      ]
    },
    {
      "cell_type": "markdown",
      "metadata": {
        "id": "yoIHEk4ofzJv"
      },
      "source": [
        "##Supplier Country with Its Revenue"
      ]
    },
    {
      "cell_type": "markdown",
      "metadata": {
        "id": "j0eeREgAfIY7"
      },
      "source": [
        "Pada grafik berikut, diplotkan negara supplier dengan pendapatannya (Revenue). Terlihat bahwa negara Prancis memiliki warna yang lebih gelap dibandingkan yang lain. Sehingga dapat disimpulkan bahwa pendapatan Supplier dari negara Prancis sangat tinggi, yakni 321.408 dollar. Sementara itu, negara lain juga memiliki warna orange moderat berarti pendapatannya rata-rata. \n",
        "Grafik ini digambarkan melalui Tableau karena kemampuannya dalam membuat grafik peta secara mudah dan tepat."
      ]
    },
    {
      "cell_type": "code",
      "execution_count": null,
      "metadata": {
        "colab": {
          "base_uri": "https://localhost:8080/",
          "height": 546
        },
        "id": "9hnO2PtgSTK3",
        "outputId": "644439db-08df-4b81-ac74-843f9e745c94"
      },
      "outputs": [
        {
          "data": {
            "text/html": [
              "<img src=\"https://i.imgur.com/C9cWjJI.png\"/>"
            ],
            "text/plain": [
              "<IPython.core.display.Image object>"
            ]
          },
          "execution_count": 2,
          "metadata": {},
          "output_type": "execute_result"
        }
      ],
      "source": [
        "from IPython.display import Image\n",
        "Image(url= \"https://i.imgur.com/C9cWjJI.png\")"
      ]
    },
    {
      "cell_type": "markdown",
      "metadata": {
        "id": "j6vdaV3lhWNT"
      },
      "source": [
        "## Treemap Supplier Revenue"
      ]
    },
    {
      "cell_type": "markdown",
      "metadata": {
        "id": "5Nie-or2f56T"
      },
      "source": [
        "Pada grafik berikut masih sama. Yakni pendapatan masing-masing supplier. Grafik digambarkan dalam bentuk treemap karena dapat memberikan persepsi yang cepat mengenai item yang berkontribusi secara besar masing-masing kategori [1]. Dalam hal ini item adalah perusahaan supplier dan kategori adalah revenue. Berdasarkan grafik berikut, Perusahaan Aux joyeux ecclsiastiques memiliki warna yang lebih pekat dan gambar kotak yang paling besar dibandingkan yang lain. Dapat disimpulkan bahwa perusahaan tersebut memiliki revenue yang tinggi.\n",
        "\n",
        "Strategi untuk menghasilkan revenue yang tinggi perlu dibagi ke masing-masing supplier rekanan sehingga perusahaan Northwest Trader sebagai perusahaan induk dapat menjual bahan makanan lebih banyak lagi. \n",
        "\n",
        "Grafik digambarkan menggunakan Tableau karena dapat membuat grafik Treemap secara cepat dan mudah (drag and drop)\n",
        "\n",
        "[1] https://www.nngroup.com/articles/treemaps/"
      ]
    },
    {
      "cell_type": "code",
      "execution_count": null,
      "metadata": {
        "colab": {
          "base_uri": "https://localhost:8080/",
          "height": 536
        },
        "id": "jR7Uaz77STK4",
        "outputId": "6dd61a4c-e02c-4ae5-f7aa-71e32de2e364"
      },
      "outputs": [
        {
          "data": {
            "text/html": [
              "<img src=\"https://i.imgur.com/wTuL1Ff.png\"/>"
            ],
            "text/plain": [
              "<IPython.core.display.Image object>"
            ]
          },
          "execution_count": 3,
          "metadata": {},
          "output_type": "execute_result"
        }
      ],
      "source": [
        "Image(url= \"https://i.imgur.com/wTuL1Ff.png\")"
      ]
    },
    {
      "cell_type": "markdown",
      "metadata": {
        "id": "CYGo5-ENgMa1"
      },
      "source": [
        "## Total Revenue by Category"
      ]
    },
    {
      "cell_type": "markdown",
      "metadata": {
        "id": "iZR-H2rngTtv"
      },
      "source": [
        "Setelah sebelumnya berfokus pada negara dan perusahaan supplier, sekarang kita akan beralih ke pendapatan tiap kategori produk. Secara umum, produk beverages, dairy products, dan meat/poultry berkontribusi secara besar terhadap total pendapatan.\n",
        "Melihat hal tersebut, produce dan grain/cereal menempati posisi terbawah. Strategi yang diperlukan adalah:\n",
        " \n",
        "\n",
        "1.    Meningkatkan kapasitas produksi beverages, dan dairy products supaya memenuhi demand\n",
        "2.   Menganalisis faktor-faktor lain mengapa grain cereals berada di urutan terbawah.\n",
        "\n",
        "\n",
        "Grafik digambarkan menggunakan Tableau karena lebih cepat dan lebih efisien dalam membuat grafik.\n",
        "\n"
      ]
    },
    {
      "cell_type": "code",
      "execution_count": null,
      "metadata": {
        "id": "IFA2LgiHSTK3",
        "outputId": "9138cb27-6762-4704-ac02-fb6f4f35391b"
      },
      "outputs": [
        {
          "data": {
            "text/html": [
              "<img src=\"https://i.imgur.com/XiJJpRZ.png\"/>"
            ],
            "text/plain": [
              "<IPython.core.display.Image object>"
            ]
          },
          "execution_count": 10,
          "metadata": {},
          "output_type": "execute_result"
        }
      ],
      "source": [
        "Image(url= \"https://i.imgur.com/XiJJpRZ.png\")"
      ]
    },
    {
      "cell_type": "markdown",
      "metadata": {
        "id": "Ng7bb0QiiuWa"
      },
      "source": [
        "## Supplier dan Kategori dengan Revenue Tertinggi"
      ]
    },
    {
      "cell_type": "markdown",
      "metadata": {
        "id": "giHUBIjxi-QB"
      },
      "source": [
        "Pada grafik berikut tampak bahwa perusahaan Aux Joyeux mampu menjadi supplier yang unggul meski hanya mengandalkan penjualan Beverages. Sedangkan perusahaan supplier Plutzer menempati posisi kedua setelah mensupply produk produce, meat/poultry, grain/cereals, condiments, dan beverages. Sementara itu gai pturage menempati posisi ketiga dengan dairy productmnya. Dapat disimpulkan bahwa komposisi produk yang dipasarkan tidak berpengaruh pada tingkat pendapatan. Suatu perusahaan dapat unggul meski hanya mensupply produk satu kategori saja, sedangkan ada perusahaan yang memiliki banyak kategori supply namun tidak unggul. \n",
        "\n",
        "Strategi untuk kasus ini yakni melakukan pemetaan produksi dari Northwest dan kategori yang laku di pasaran. Grafik menggunakan Tableau karena dapat membuat stacked bar chart dengan mudah dan efisien."
      ]
    },
    {
      "cell_type": "code",
      "execution_count": null,
      "metadata": {
        "colab": {
          "base_uri": "https://localhost:8080/",
          "height": 538
        },
        "id": "dD6tiE0VSTK4",
        "outputId": "195e872f-89e9-44d5-a435-fa129bec595b"
      },
      "outputs": [
        {
          "data": {
            "text/html": [
              "<img src=\"https://i.imgur.com/XSOINEO.png\"/>"
            ],
            "text/plain": [
              "<IPython.core.display.Image object>"
            ]
          },
          "execution_count": 5,
          "metadata": {},
          "output_type": "execute_result"
        }
      ],
      "source": [
        "Image(url= \"https://i.imgur.com/XSOINEO.png\")"
      ]
    },
    {
      "cell_type": "markdown",
      "metadata": {
        "id": "Yc3JleaxTvOf"
      },
      "source": [
        "## Number of Order by Country"
      ]
    },
    {
      "cell_type": "markdown",
      "metadata": {
        "id": "rIafI8OST0li"
      },
      "source": [
        "Setelah sebelumnya kita mengetahui supplier dan kategori dengan revenue tertinggi, saatnya menganalisis grafik jumlah pesanan berdasarkan negara.\n",
        "Dari peta diketahui semakin tua warnanya, semakin banyak pesanannya. Sebaliknya, semakin muda warnanya semakin sedikit pesanannya. \n",
        "\n",
        " Berdasarkan grafik peta dan barplot di bawah ini, diketahui negara Jerman lebih banyak memesan produk dari Northwest Traders dengan total sebanyak 2810 pesanan. Namun demikian, USA di nomor kedua juga tidak kalah memesan dengan pesanan lebih dari 2600 item. Austria berada di nomor ketiga dengan pesanan lebih banyak dari 1600. \n",
        " Mengetahui hal berikut strategi yang bisa diambil adalah:\n",
        " 1.  Membuat pusat produksi dan mencari supplier baru di tiga negara dengan pemesan produk terbanyak.\n",
        " 2. Membuat kantor cabang distributor disetiap negara (di bawah supplier) yang bertindak cepat mengirimkan barang karena banyak produk dari perusahaan merupakan bahan makanan. "
      ]
    },
    {
      "cell_type": "code",
      "execution_count": null,
      "metadata": {
        "id": "ROjzp59ZSTK4",
        "outputId": "ee29983b-dfc0-4bd2-d46a-7188e6bf80d8"
      },
      "outputs": [
        {
          "data": {
            "text/html": [
              "<img src=\"https://i.imgur.com/4vBanYC.png\"/>"
            ],
            "text/plain": [
              "<IPython.core.display.Image object>"
            ]
          },
          "execution_count": 44,
          "metadata": {},
          "output_type": "execute_result"
        }
      ],
      "source": [
        "Image(url= \"https://i.imgur.com/4vBanYC.png\")"
      ]
    },
    {
      "cell_type": "markdown",
      "metadata": {
        "id": "JqHCcEChktB_"
      },
      "source": [
        "Bar chart berikut hanya sebagai pelengkap dari grafik map di atas."
      ]
    },
    {
      "cell_type": "code",
      "execution_count": null,
      "metadata": {
        "id": "ud09yq3pSTK4",
        "outputId": "4454d086-a7c7-4924-d95a-ff56bbbf834b"
      },
      "outputs": [
        {
          "data": {
            "text/html": [
              "<img src=\"https://i.imgur.com/1rTpzmT.png\"/>"
            ],
            "text/plain": [
              "<IPython.core.display.Image object>"
            ]
          },
          "execution_count": 45,
          "metadata": {},
          "output_type": "execute_result"
        }
      ],
      "source": [
        "Image(url= \"https://i.imgur.com/1rTpzmT.png\")"
      ]
    },
    {
      "cell_type": "markdown",
      "metadata": {
        "id": "7JTuMvV4V9HH"
      },
      "source": [
        "## Units in Stock vs Units in Order"
      ]
    },
    {
      "cell_type": "markdown",
      "metadata": {
        "id": "CJ5QGIMwWC8c"
      },
      "source": [
        "Terdapat lineplot yang dinamis pada unit in stock dibandingkan unit in order tiap bulan. Pada bulan Maret dan April stok tertinggi pada 10000 stok. Sedangkan order juga mengalami pesanan tertinggi dengan 2000 pesanan. Kemudian pada bulan Juni, stok dan order menurun sangat tajam hingga 3500 stok dan 700 orderan. Baru kemudian stok berangsur-angsur memulih hingga 6000 stok. Sedangkan order mengalami peningkatan hingga ke angka 2000. Order tertinggi tepat berada di awal tahun yakni bulan Januari. Melihat hal ini strategi yang perlu dijalankan adalah\n",
        "\n",
        "\n",
        "1.   Meningkatkan stok di Quartal pertama untuk memenuhi permintaan pesanan.\n",
        "2.   Mengurangi jumlah stok di Quartal kedua karena pesanan juga akan turun.\n",
        "3.   Menjaga stabilitas stok di Quartal ketiga.\n",
        "\n"
      ]
    },
    {
      "cell_type": "code",
      "execution_count": null,
      "metadata": {
        "id": "HXsKKLzYSTK4",
        "outputId": "1eb38594-c611-4050-ce2b-dff3c9490685"
      },
      "outputs": [
        {
          "data": {
            "text/html": [
              "<img src=\"https://i.imgur.com/zDoh09E.png\"/>"
            ],
            "text/plain": [
              "<IPython.core.display.Image object>"
            ]
          },
          "execution_count": 46,
          "metadata": {},
          "output_type": "execute_result"
        }
      ],
      "source": [
        "Image(url= \"https://i.imgur.com/zDoh09E.png\")"
      ]
    },
    {
      "cell_type": "markdown",
      "metadata": {
        "id": "gIgP2kDRpGvO"
      },
      "source": [
        "## Perbandingan Unit in Stock vs. Unit in Order Tiap Tahun"
      ]
    },
    {
      "cell_type": "markdown",
      "metadata": {
        "id": "Q-e3ClvxpUHS"
      },
      "source": [
        "Unit in Stock dan Unit in Order tertinggi terjadi di tahun 1997 dan terendah di tahun 1996. Kemudian turun kembali di tahun 1998. Dapat dikatakan tahun 1997 merupakan tahun keemasan bagi perusahaan karena stock dan order meningkat dengan pesat. Oleh karena itu, perlu dipelajari strategi apa  yang membuat tahun 1997 mengalami stock dan order dengan sangat tinggi. Grafik dibuat dengan Tableau untuk mendapatkan hasil yang cepat, mudah dan efisien."
      ]
    },
    {
      "cell_type": "code",
      "execution_count": null,
      "metadata": {
        "colab": {
          "base_uri": "https://localhost:8080/",
          "height": 537
        },
        "id": "nJF2heANSTK5",
        "outputId": "1e180c7c-26ac-4154-d5b5-e79c65c29268"
      },
      "outputs": [
        {
          "data": {
            "text/html": [
              "<img src=\"https://i.imgur.com/hMqqy0V.png\"/>"
            ],
            "text/plain": [
              "<IPython.core.display.Image object>"
            ]
          },
          "execution_count": 4,
          "metadata": {},
          "output_type": "execute_result"
        }
      ],
      "source": [
        "Image(url= \"https://i.imgur.com/hMqqy0V.png\")"
      ]
    },
    {
      "cell_type": "markdown",
      "source": [
        "## Boxplot Kategori Pesanan"
      ],
      "metadata": {
        "id": "ybb_RnCSoyVJ"
      }
    },
    {
      "cell_type": "markdown",
      "source": [
        "Berdasarkan boxplot berikut, data memiliki persebaran yang relatif sama dengan outlier di beberapa bagian."
      ],
      "metadata": {
        "id": "0tE-cECxpB1i"
      }
    },
    {
      "cell_type": "code",
      "execution_count": null,
      "metadata": {
        "id": "889kVPolodef",
        "outputId": "7178669f-0884-48c7-f9bf-cad73d0bce15"
      },
      "outputs": [
        {
          "data": {
            "image/png": "[encoded data removed]",
            "text/plain": [
              "<Figure size 936x612 with 1 Axes>"
            ]
          },
          "metadata": {},
          "output_type": "display_data"
        },
        {
          "data": {
            "text/html": [
              "<div>\n",
              "<style scoped>\n",
              "    .dataframe tbody tr th:only-of-type {\n",
              "        vertical-align: middle;\n",
              "    }\n",
              "\n",
              "    .dataframe tbody tr th {\n",
              "        vertical-align: top;\n",
              "    }\n",
              "\n",
              "    .dataframe thead tr th {\n",
              "        text-align: left;\n",
              "    }\n",
              "\n",
              "    .dataframe thead tr:last-of-type th {\n",
              "        text-align: right;\n",
              "    }\n",
              "</style>\n",
              "<table border=\"1\" class=\"dataframe\">\n",
              "  <thead>\n",
              "    <tr>\n",
              "      <th></th>\n",
              "      <th colspan=\"8\" halign=\"left\">orderID</th>\n",
              "      <th colspan=\"5\" halign=\"left\">Discount</th>\n",
              "      <th colspan=\"8\" halign=\"left\">Quantity</th>\n",
              "    </tr>\n",
              "    <tr>\n",
              "      <th></th>\n",
              "      <th>count</th>\n",
              "      <th>mean</th>\n",
              "      <th>std</th>\n",
              "      <th>min</th>\n",
              "      <th>25%</th>\n",
              "      <th>50%</th>\n",
              "      <th>75%</th>\n",
              "      <th>max</th>\n",
              "      <th>count</th>\n",
              "      <th>mean</th>\n",
              "      <th>...</th>\n",
              "      <th>75%</th>\n",
              "      <th>max</th>\n",
              "      <th>count</th>\n",
              "      <th>mean</th>\n",
              "      <th>std</th>\n",
              "      <th>min</th>\n",
              "      <th>25%</th>\n",
              "      <th>50%</th>\n",
              "      <th>75%</th>\n",
              "      <th>max</th>\n",
              "    </tr>\n",
              "    <tr>\n",
              "      <th>CategoryName</th>\n",
              "      <th></th>\n",
              "      <th></th>\n",
              "      <th></th>\n",
              "      <th></th>\n",
              "      <th></th>\n",
              "      <th></th>\n",
              "      <th></th>\n",
              "      <th></th>\n",
              "      <th></th>\n",
              "      <th></th>\n",
              "      <th></th>\n",
              "      <th></th>\n",
              "      <th></th>\n",
              "      <th></th>\n",
              "      <th></th>\n",
              "      <th></th>\n",
              "      <th></th>\n",
              "      <th></th>\n",
              "      <th></th>\n",
              "      <th></th>\n",
              "      <th></th>\n",
              "    </tr>\n",
              "  </thead>\n",
              "  <tbody>\n",
              "    <tr>\n",
              "      <th>Beverages</th>\n",
              "      <td>404.0</td>\n",
              "      <td>10673.623762</td>\n",
              "      <td>247.990919</td>\n",
              "      <td>10253.0</td>\n",
              "      <td>10464.75</td>\n",
              "      <td>10685.0</td>\n",
              "      <td>10885.00</td>\n",
              "      <td>11077.0</td>\n",
              "      <td>404.0</td>\n",
              "      <td>0.0</td>\n",
              "      <td>...</td>\n",
              "      <td>0.0</td>\n",
              "      <td>0.0</td>\n",
              "      <td>404.0</td>\n",
              "      <td>23.594059</td>\n",
              "      <td>19.222830</td>\n",
              "      <td>2.0</td>\n",
              "      <td>10.0</td>\n",
              "      <td>20.0</td>\n",
              "      <td>30.00</td>\n",
              "      <td>130.0</td>\n",
              "    </tr>\n",
              "    <tr>\n",
              "      <th>Condiments</th>\n",
              "      <td>216.0</td>\n",
              "      <td>10664.375000</td>\n",
              "      <td>247.244899</td>\n",
              "      <td>10250.0</td>\n",
              "      <td>10461.75</td>\n",
              "      <td>10656.5</td>\n",
              "      <td>10881.00</td>\n",
              "      <td>11077.0</td>\n",
              "      <td>216.0</td>\n",
              "      <td>0.0</td>\n",
              "      <td>...</td>\n",
              "      <td>0.0</td>\n",
              "      <td>0.0</td>\n",
              "      <td>216.0</td>\n",
              "      <td>24.527778</td>\n",
              "      <td>19.761818</td>\n",
              "      <td>1.0</td>\n",
              "      <td>10.0</td>\n",
              "      <td>20.0</td>\n",
              "      <td>30.00</td>\n",
              "      <td>120.0</td>\n",
              "    </tr>\n",
              "    <tr>\n",
              "      <th>Confections</th>\n",
              "      <td>334.0</td>\n",
              "      <td>10651.035928</td>\n",
              "      <td>236.321418</td>\n",
              "      <td>10252.0</td>\n",
              "      <td>10441.75</td>\n",
              "      <td>10656.5</td>\n",
              "      <td>10854.25</td>\n",
              "      <td>11077.0</td>\n",
              "      <td>334.0</td>\n",
              "      <td>0.0</td>\n",
              "      <td>...</td>\n",
              "      <td>0.0</td>\n",
              "      <td>0.0</td>\n",
              "      <td>334.0</td>\n",
              "      <td>23.670659</td>\n",
              "      <td>17.264570</td>\n",
              "      <td>1.0</td>\n",
              "      <td>10.0</td>\n",
              "      <td>20.0</td>\n",
              "      <td>34.25</td>\n",
              "      <td>120.0</td>\n",
              "    </tr>\n",
              "    <tr>\n",
              "      <th>Dairy Products</th>\n",
              "      <td>366.0</td>\n",
              "      <td>10640.639344</td>\n",
              "      <td>243.522182</td>\n",
              "      <td>10248.0</td>\n",
              "      <td>10420.00</td>\n",
              "      <td>10619.0</td>\n",
              "      <td>10835.75</td>\n",
              "      <td>11077.0</td>\n",
              "      <td>366.0</td>\n",
              "      <td>0.0</td>\n",
              "      <td>...</td>\n",
              "      <td>0.0</td>\n",
              "      <td>0.0</td>\n",
              "      <td>366.0</td>\n",
              "      <td>24.997268</td>\n",
              "      <td>18.797770</td>\n",
              "      <td>1.0</td>\n",
              "      <td>10.0</td>\n",
              "      <td>20.0</td>\n",
              "      <td>35.00</td>\n",
              "      <td>110.0</td>\n",
              "    </tr>\n",
              "    <tr>\n",
              "      <th>Grains/Cereals</th>\n",
              "      <td>196.0</td>\n",
              "      <td>10663.974490</td>\n",
              "      <td>227.571740</td>\n",
              "      <td>10248.0</td>\n",
              "      <td>10468.50</td>\n",
              "      <td>10663.5</td>\n",
              "      <td>10845.00</td>\n",
              "      <td>11077.0</td>\n",
              "      <td>196.0</td>\n",
              "      <td>0.0</td>\n",
              "      <td>...</td>\n",
              "      <td>0.0</td>\n",
              "      <td>0.0</td>\n",
              "      <td>196.0</td>\n",
              "      <td>23.275510</td>\n",
              "      <td>18.253924</td>\n",
              "      <td>2.0</td>\n",
              "      <td>10.0</td>\n",
              "      <td>20.0</td>\n",
              "      <td>30.00</td>\n",
              "      <td>130.0</td>\n",
              "    </tr>\n",
              "    <tr>\n",
              "      <th>Meat/Poultry</th>\n",
              "      <td>173.0</td>\n",
              "      <td>10633.988439</td>\n",
              "      <td>239.229383</td>\n",
              "      <td>10254.0</td>\n",
              "      <td>10425.00</td>\n",
              "      <td>10624.0</td>\n",
              "      <td>10834.00</td>\n",
              "      <td>11077.0</td>\n",
              "      <td>173.0</td>\n",
              "      <td>0.0</td>\n",
              "      <td>...</td>\n",
              "      <td>0.0</td>\n",
              "      <td>0.0</td>\n",
              "      <td>173.0</td>\n",
              "      <td>24.271676</td>\n",
              "      <td>22.238955</td>\n",
              "      <td>2.0</td>\n",
              "      <td>10.0</td>\n",
              "      <td>18.0</td>\n",
              "      <td>30.00</td>\n",
              "      <td>120.0</td>\n",
              "    </tr>\n",
              "    <tr>\n",
              "      <th>Produce</th>\n",
              "      <td>136.0</td>\n",
              "      <td>10665.448529</td>\n",
              "      <td>250.944876</td>\n",
              "      <td>10249.0</td>\n",
              "      <td>10456.50</td>\n",
              "      <td>10646.0</td>\n",
              "      <td>10908.25</td>\n",
              "      <td>11077.0</td>\n",
              "      <td>136.0</td>\n",
              "      <td>0.0</td>\n",
              "      <td>...</td>\n",
              "      <td>0.0</td>\n",
              "      <td>0.0</td>\n",
              "      <td>136.0</td>\n",
              "      <td>21.985294</td>\n",
              "      <td>18.490031</td>\n",
              "      <td>1.0</td>\n",
              "      <td>10.0</td>\n",
              "      <td>19.0</td>\n",
              "      <td>30.00</td>\n",
              "      <td>120.0</td>\n",
              "    </tr>\n",
              "    <tr>\n",
              "      <th>Seafood</th>\n",
              "      <td>330.0</td>\n",
              "      <td>10675.957576</td>\n",
              "      <td>236.711471</td>\n",
              "      <td>10250.0</td>\n",
              "      <td>10482.50</td>\n",
              "      <td>10685.0</td>\n",
              "      <td>10878.50</td>\n",
              "      <td>11077.0</td>\n",
              "      <td>330.0</td>\n",
              "      <td>0.0</td>\n",
              "      <td>...</td>\n",
              "      <td>0.0</td>\n",
              "      <td>0.0</td>\n",
              "      <td>330.0</td>\n",
              "      <td>23.275758</td>\n",
              "      <td>19.161917</td>\n",
              "      <td>1.0</td>\n",
              "      <td>10.0</td>\n",
              "      <td>20.0</td>\n",
              "      <td>30.00</td>\n",
              "      <td>120.0</td>\n",
              "    </tr>\n",
              "  </tbody>\n",
              "</table>\n",
              "<p>8 rows × 24 columns</p>\n",
              "</div>"
            ],
            "text/plain": [
              "               orderID                                                        \\\n",
              "                 count          mean         std      min       25%      50%   \n",
              "CategoryName                                                                   \n",
              "Beverages        404.0  10673.623762  247.990919  10253.0  10464.75  10685.0   \n",
              "Condiments       216.0  10664.375000  247.244899  10250.0  10461.75  10656.5   \n",
              "Confections      334.0  10651.035928  236.321418  10252.0  10441.75  10656.5   \n",
              "Dairy Products   366.0  10640.639344  243.522182  10248.0  10420.00  10619.0   \n",
              "Grains/Cereals   196.0  10663.974490  227.571740  10248.0  10468.50  10663.5   \n",
              "Meat/Poultry     173.0  10633.988439  239.229383  10254.0  10425.00  10624.0   \n",
              "Produce          136.0  10665.448529  250.944876  10249.0  10456.50  10646.0   \n",
              "Seafood          330.0  10675.957576  236.711471  10250.0  10482.50  10685.0   \n",
              "\n",
              "                                  Discount       ...           Quantity  \\\n",
              "                     75%      max    count mean  ...  75%  max    count   \n",
              "CategoryName                                     ...                      \n",
              "Beverages       10885.00  11077.0    404.0  0.0  ...  0.0  0.0    404.0   \n",
              "Condiments      10881.00  11077.0    216.0  0.0  ...  0.0  0.0    216.0   \n",
              "Confections     10854.25  11077.0    334.0  0.0  ...  0.0  0.0    334.0   \n",
              "Dairy Products  10835.75  11077.0    366.0  0.0  ...  0.0  0.0    366.0   \n",
              "Grains/Cereals  10845.00  11077.0    196.0  0.0  ...  0.0  0.0    196.0   \n",
              "Meat/Poultry    10834.00  11077.0    173.0  0.0  ...  0.0  0.0    173.0   \n",
              "Produce         10908.25  11077.0    136.0  0.0  ...  0.0  0.0    136.0   \n",
              "Seafood         10878.50  11077.0    330.0  0.0  ...  0.0  0.0    330.0   \n",
              "\n",
              "                                                                     \n",
              "                     mean        std  min   25%   50%    75%    max  \n",
              "CategoryName                                                         \n",
              "Beverages       23.594059  19.222830  2.0  10.0  20.0  30.00  130.0  \n",
              "Condiments      24.527778  19.761818  1.0  10.0  20.0  30.00  120.0  \n",
              "Confections     23.670659  17.264570  1.0  10.0  20.0  34.25  120.0  \n",
              "Dairy Products  24.997268  18.797770  1.0  10.0  20.0  35.00  110.0  \n",
              "Grains/Cereals  23.275510  18.253924  2.0  10.0  20.0  30.00  130.0  \n",
              "Meat/Poultry    24.271676  22.238955  2.0  10.0  18.0  30.00  120.0  \n",
              "Produce         21.985294  18.490031  1.0  10.0  19.0  30.00  120.0  \n",
              "Seafood         23.275758  19.161917  1.0  10.0  20.0  30.00  120.0  \n",
              "\n",
              "[8 rows x 24 columns]"
            ]
          },
          "execution_count": 53,
          "metadata": {},
          "output_type": "execute_result"
        }
      ],
      "source": [
        "plt.figure(figsize=(13,8.5))\n",
        "\n",
        "sns.boxplot(x='CategoryName', y='Quantity', data=df3)\n",
        "plt.title('Quantity of goods consumed by Category w/ Outliers')\n",
        "plt.show()\n",
        "\n",
        "df3.groupby(['CategoryName']).describe()"
      ]
    },
    {
      "cell_type": "markdown",
      "source": [
        "Setelah outlier dihilangkan, Confections dan Dairy Product memiliki persebaran yang lebih lebar dibandingkan dengan data yang lain. "
      ],
      "metadata": {
        "id": "YssEsUF-pQLF"
      }
    },
    {
      "cell_type": "code",
      "execution_count": null,
      "metadata": {
        "id": "_FJGJMU8odef",
        "outputId": "cc48c910-a10b-4bfa-b367-1f1f694d6eef"
      },
      "outputs": [
        {
          "data": {
            "image/png": "[encoded data removed]",
            "text/plain": [
              "<Figure size 936x360 with 2 Axes>"
            ]
          },
          "metadata": {},
          "output_type": "display_data"
        }
      ],
      "source": [
        "ig, (ax1, ax2) = plt.subplots(ncols=2, sharex=True, figsize=(13,5))\n",
        "\n",
        "sns.boxplot(x='CategoryName', y='Quantity', data=df3, ax=ax1, showfliers=False)\n",
        "ax1.set_title('Quantity of goods consumed by Category w/o Outliers')\n",
        "ax1.tick_params(axis='x', labelrotation=90)\n",
        "\n",
        "sns.violinplot(x='CategoryName', y='Quantity', data=df3, ax=ax2, showfliers=False)\n",
        "ax2.set_title('Quantity of goods consumed by Category w/o Outliers')\n",
        "ax2.tick_params(axis='x', labelrotation=90)\n",
        "\n",
        "plt.show()"
      ]
    },
    {
      "cell_type": "markdown",
      "source": [
        "Terlihat bahwa kuantitas Rightly Skewed atau skewed positive."
      ],
      "metadata": {
        "id": "CkmIdkvWphyl"
      }
    },
    {
      "cell_type": "code",
      "execution_count": null,
      "metadata": {
        "id": "6yVkh_tzodef",
        "outputId": "aad60ec1-46e4-41a0-e7b1-1a3feb7d821f"
      },
      "outputs": [
        {
          "name": "stderr",
          "output_type": "stream",
          "text": [
            "C:\\Users\\HP\\anaconda3\\lib\\site-packages\\seaborn\\distributions.py:2619: FutureWarning: `distplot` is a deprecated function and will be removed in a future version. Please adapt your code to use either `displot` (a figure-level function with similar flexibility) or `histplot` (an axes-level function for histograms).\n",
            "  warnings.warn(msg, FutureWarning)\n"
          ]
        },
        {
          "data": {
            "text/plain": [
              "<AxesSubplot:xlabel='Quantity', ylabel='Density'>"
            ]
          },
          "execution_count": 55,
          "metadata": {},
          "output_type": "execute_result"
        },
        {
          "data": {
            "image/png": "[encoded data removed]",
            "text/plain": [
              "<Figure size 576x396 with 1 Axes>"
            ]
          },
          "metadata": {},
          "output_type": "display_data"
        }
      ],
      "source": [
        "sns.distplot(a=df3.Quantity)"
      ]
    },
    {
      "cell_type": "markdown",
      "metadata": {
        "id": "DupCU1mYqQpS"
      },
      "source": [
        "## **Statistik**"
      ]
    },
    {
      "cell_type": "markdown",
      "metadata": {
        "id": "UgbcNlC4JpGs"
      },
      "source": [
        "## 1) Perbedaan Revenue tiap Jenis Produk"
      ]
    },
    {
      "cell_type": "markdown",
      "source": [
        "Pertanyaan 1: Apakah kategori makanan memiliki dampak signifikan pada Revenue?\n",
        "\n",
        "H0: Terdapat Perbedaan Nilai Median Revenue pada Setiap Product Yang Ada\n",
        "\n",
        "Ha: Tidak Terdapat Perbedaan Nilai Median Revenue pada Setiap Product Yang Ada"
      ],
      "metadata": {
        "id": "AGcGjeWmpvKi"
      }
    },
    {
      "cell_type": "code",
      "execution_count": null,
      "metadata": {
        "id": "k3mfIOWoJpGs",
        "outputId": "2bd92c32-e6d3-42a0-ddb1-7237bb7f35a6"
      },
      "outputs": [
        {
          "name": "stdout",
          "output_type": "stream",
          "text": [
            "Tolak H0 Karena P-Value (0.0 < 5%)\n",
            "DATA TIDAK BERDISTRIBUSI NORMAL\n"
          ]
        }
      ],
      "source": [
        "# Uji Perbandingan Nilai profitEach Antar Setiap Product Line (Normalitas)\n",
        "\n",
        "from scipy.stats import shapiro\n",
        "\n",
        "norm, pval = shapiro(table['Revenue'])\n",
        "\n",
        "if pval < 0.05 :\n",
        "    print (f'Tolak H0 Karena P-Value ({pval} < 5%)')\n",
        "    print ('DATA TIDAK BERDISTRIBUSI NORMAL')\n",
        "else :\n",
        "    print (f'Gagal Tolak H0 Karena P-Value ({pval} > 5%)')\n",
        "    print ('DATA BERDISTRIBUSI NORMAL')"
      ]
    },
    {
      "cell_type": "markdown",
      "source": [
        "Dari hasil uji statistik Saphiro, diketahui data tidak terdistribusi secara normal. Sehingga akan diaplikasikan uji non parametrik Kruskal Wilis"
      ],
      "metadata": {
        "id": "yonulm3UqCJB"
      }
    },
    {
      "cell_type": "code",
      "execution_count": null,
      "metadata": {
        "id": "UuFk5ASmJpGs",
        "outputId": "a65e4512-2dde-4f77-a98f-b6052d5b5f9d"
      },
      "outputs": [
        {
          "data": {
            "text/plain": [
              "array(['Beverages', 'Condiments', 'Produce', 'Meat/Poultry', 'Seafood',\n",
              "       'Dairy Products', 'Confections', 'Grains/Cereals'], dtype=object)"
            ]
          },
          "execution_count": 11,
          "metadata": {},
          "output_type": "execute_result"
        }
      ],
      "source": [
        "table['CategoryName'].unique()"
      ]
    },
    {
      "cell_type": "code",
      "execution_count": null,
      "metadata": {
        "id": "5hAKGEi-JpGt",
        "outputId": "6d6b43d7-809d-4570-a5fe-fe510082caad"
      },
      "outputs": [
        {
          "name": "stdout",
          "output_type": "stream",
          "text": [
            "Tolak H0 Karena P-Value (0.0 < 5%)\n",
            "Terdapat Perbedaan Nilai Median Revenue pada Setiap Product Yang Ada\n"
          ]
        }
      ],
      "source": [
        "\n",
        "from scipy.stats import kruskal\n",
        "\n",
        "krus, pvalkrus = kruskal(\n",
        "    table[table['CategoryName'] == 'Beverages']['Revenue'],\n",
        "    table[table['CategoryName'] == 'Condiments']['Revenue'],\n",
        "    table[table['CategoryName'] == 'Produce']['Revenue'],\n",
        "    table[table['CategoryName'] == 'Meat/Poultry']['Revenue'],\n",
        "    table[table['CategoryName'] == 'Seafood']['Revenue'],\n",
        "    table[table['CategoryName'] == 'Dairy Products']['Revenue'],\n",
        "    table[table['CategoryName'] == 'Confections']['Revenue'],\n",
        "    table[table['CategoryName'] == 'Grains/Cereals']['Revenue']\n",
        "    \n",
        ") \n",
        "\n",
        "if pvalkrus < 0.05 :\n",
        "    print (f'Tolak H0 Karena P-Value ({pval} < 5%)')\n",
        "    print ('Terdapat Perbedaan Nilai Median Revenue pada Setiap Product Yang Ada')\n",
        "else :\n",
        "    print (f'Gagal Tolak H0 Karena P-Value ({pval} > 5%)')\n",
        "    print ('Tidak Terdapat Perbedaan Nilai Median Revenue pada Setiap Product Yang Ada')"
      ]
    },
    {
      "cell_type": "markdown",
      "source": [
        "KESIMPULAN\n",
        "\n",
        "Karena data tolak H0 artinya hipotesis Ha diterima. **Tidak ada perbedaan nilai Median Revenue pada Setiap Produk yang Ada**"
      ],
      "metadata": {
        "id": "gYRFX6X_qQlH"
      }
    },
    {
      "cell_type": "markdown",
      "source": [
        "## 2) Kategori dan Jumlah Pesanan"
      ],
      "metadata": {
        "id": "e8OinQpDqrhc"
      }
    },
    {
      "cell_type": "markdown",
      "source": [
        "Pertanyaan 2: Apakah kategori makanan memiliki dampak signifikan pada kuantitas pesanan?\n",
        "\n",
        "H0: Kategori makanan memiliki memiliki dampak yang signifikan pada kuantitas yang dipesan\n",
        "\n",
        "Ha: Tidak ada perbedaan signifikan antara kuantitas pesanan berdasarkan Kategori\n"
      ],
      "metadata": {
        "id": "loJ4M4TjqwnR"
      }
    },
    {
      "cell_type": "code",
      "execution_count": null,
      "metadata": {
        "id": "h3uvUJN-odeh"
      },
      "outputs": [],
      "source": [
        "#import necessary library\n",
        "import custom_tools as ct\n",
        "from statsmodels.formula.api import ols\n",
        "import statsmodels.api as sm"
      ]
    },
    {
      "cell_type": "code",
      "execution_count": null,
      "metadata": {
        "id": "8DHd4GA0JpGv",
        "outputId": "32b8cf76-81b7-46c3-9ce5-a3fbf2b27b28"
      },
      "outputs": [
        {
          "name": "stdout",
          "output_type": "stream",
          "text": [
            "Total Category goods quantity:\n",
            "p = 5.022954345372307e-41\n",
            "Therefore the data is NOT normal\n",
            "\n",
            "\n",
            "Beverages\n",
            "p = 1.9424622547858795e-20\n",
            "Therefore the data is NOT normal\n",
            "\n",
            "\n",
            "Condiments\n",
            "p = 6.648943684040357e-14\n",
            "Therefore the data is NOT normal\n",
            "\n",
            "\n",
            "Confections\n",
            "p = 3.1780212006926253e-14\n",
            "Therefore the data is NOT normal\n",
            "\n",
            "\n",
            "Dairy Products\n",
            "p = 1.792136004416414e-15\n",
            "Therefore the data is NOT normal\n",
            "\n",
            "\n",
            "Grains/Cereals\n",
            "p = 3.3445877903152954e-13\n",
            "Therefore the data is NOT normal\n",
            "\n",
            "\n",
            "Meat/Poultry\n",
            "p = 1.4861369242429728e-14\n",
            "Therefore the data is NOT normal\n",
            "\n",
            "\n",
            "Produce\n",
            "p = 3.441083182287308e-11\n",
            "Therefore the data is NOT normal\n",
            "\n",
            "\n",
            "Seafood\n",
            "p = 4.892618640476611e-18\n",
            "Therefore the data is NOT normal\n",
            "\n",
            "\n"
          ]
        }
      ],
      "source": [
        "#Tes kenormalan dengan uji Shapiro\n",
        "\n",
        "print('Total Category goods quantity:')\n",
        "ct.normality_test_shapiro(df3.Quantity)\n",
        "print('\\n')\n",
        "\n",
        "categories = df3.CategoryName.unique()\n",
        "for cat in categories:\n",
        "    print(cat)\n",
        "    ct.normality_test_shapiro(df3[df3.CategoryName==cat].Quantity)\n",
        "    print('\\n')"
      ]
    },
    {
      "cell_type": "code",
      "execution_count": null,
      "metadata": {
        "id": "IpeB_8Rkodeh",
        "outputId": "8b775248-d784-4200-e601-ba4ef03933d2"
      },
      "outputs": [
        {
          "name": "stderr",
          "output_type": "stream",
          "text": [
            "C:\\Users\\HP\\anaconda3\\lib\\site-packages\\seaborn\\distributions.py:2619: FutureWarning: `distplot` is a deprecated function and will be removed in a future version. Please adapt your code to use either `displot` (a figure-level function with similar flexibility) or `histplot` (an axes-level function for histograms).\n",
            "  warnings.warn(msg, FutureWarning)\n",
            "C:\\Users\\HP\\anaconda3\\lib\\site-packages\\seaborn\\distributions.py:2619: FutureWarning: `distplot` is a deprecated function and will be removed in a future version. Please adapt your code to use either `displot` (a figure-level function with similar flexibility) or `histplot` (an axes-level function for histograms).\n",
            "  warnings.warn(msg, FutureWarning)\n",
            "C:\\Users\\HP\\anaconda3\\lib\\site-packages\\seaborn\\distributions.py:2619: FutureWarning: `distplot` is a deprecated function and will be removed in a future version. Please adapt your code to use either `displot` (a figure-level function with similar flexibility) or `histplot` (an axes-level function for histograms).\n",
            "  warnings.warn(msg, FutureWarning)\n",
            "C:\\Users\\HP\\anaconda3\\lib\\site-packages\\seaborn\\distributions.py:2619: FutureWarning: `distplot` is a deprecated function and will be removed in a future version. Please adapt your code to use either `displot` (a figure-level function with similar flexibility) or `histplot` (an axes-level function for histograms).\n",
            "  warnings.warn(msg, FutureWarning)\n",
            "C:\\Users\\HP\\anaconda3\\lib\\site-packages\\seaborn\\distributions.py:2619: FutureWarning: `distplot` is a deprecated function and will be removed in a future version. Please adapt your code to use either `displot` (a figure-level function with similar flexibility) or `histplot` (an axes-level function for histograms).\n",
            "  warnings.warn(msg, FutureWarning)\n",
            "C:\\Users\\HP\\anaconda3\\lib\\site-packages\\seaborn\\distributions.py:2619: FutureWarning: `distplot` is a deprecated function and will be removed in a future version. Please adapt your code to use either `displot` (a figure-level function with similar flexibility) or `histplot` (an axes-level function for histograms).\n",
            "  warnings.warn(msg, FutureWarning)\n",
            "C:\\Users\\HP\\anaconda3\\lib\\site-packages\\seaborn\\distributions.py:2619: FutureWarning: `distplot` is a deprecated function and will be removed in a future version. Please adapt your code to use either `displot` (a figure-level function with similar flexibility) or `histplot` (an axes-level function for histograms).\n",
            "  warnings.warn(msg, FutureWarning)\n",
            "C:\\Users\\HP\\anaconda3\\lib\\site-packages\\seaborn\\distributions.py:2619: FutureWarning: `distplot` is a deprecated function and will be removed in a future version. Please adapt your code to use either `displot` (a figure-level function with similar flexibility) or `histplot` (an axes-level function for histograms).\n",
            "  warnings.warn(msg, FutureWarning)\n"
          ]
        },
        {
          "data": {
            "image/png": "[encoded data removed]",
            "text/plain": [
              "<Figure size 936x576 with 1 Axes>"
            ]
          },
          "metadata": {},
          "output_type": "display_data"
        }
      ],
      "source": [
        "plt.figure(figsize=(13,8))\n",
        "\n",
        "categories = df3.CategoryName.unique()\n",
        "for cat in categories:\n",
        "    sns.distplot(a=df3[df3.CategoryName==cat].Quantity, label=cat)\n",
        "    plt.legend()\n",
        "plt.show()"
      ]
    },
    {
      "cell_type": "markdown",
      "source": [
        "Diketahui pada gambar di atas, bahwa data Skewed Right. Oleh karena itu akan dicoba random sampling terhadap data kategorikal"
      ],
      "metadata": {
        "id": "xd6EyumDq9e9"
      }
    },
    {
      "cell_type": "code",
      "execution_count": null,
      "metadata": {
        "id": "n5ptPzSpodeh",
        "outputId": "52826a28-9f26-40ca-f0d3-856d80faeab6"
      },
      "outputs": [
        {
          "name": "stderr",
          "output_type": "stream",
          "text": [
            "C:\\Users\\HP\\anaconda3\\lib\\site-packages\\seaborn\\distributions.py:2619: FutureWarning: `distplot` is a deprecated function and will be removed in a future version. Please adapt your code to use either `displot` (a figure-level function with similar flexibility) or `histplot` (an axes-level function for histograms).\n",
            "  warnings.warn(msg, FutureWarning)\n",
            "C:\\Users\\HP\\anaconda3\\lib\\site-packages\\seaborn\\distributions.py:2619: FutureWarning: `distplot` is a deprecated function and will be removed in a future version. Please adapt your code to use either `displot` (a figure-level function with similar flexibility) or `histplot` (an axes-level function for histograms).\n",
            "  warnings.warn(msg, FutureWarning)\n",
            "C:\\Users\\HP\\anaconda3\\lib\\site-packages\\seaborn\\distributions.py:2619: FutureWarning: `distplot` is a deprecated function and will be removed in a future version. Please adapt your code to use either `displot` (a figure-level function with similar flexibility) or `histplot` (an axes-level function for histograms).\n",
            "  warnings.warn(msg, FutureWarning)\n",
            "C:\\Users\\HP\\anaconda3\\lib\\site-packages\\seaborn\\distributions.py:2619: FutureWarning: `distplot` is a deprecated function and will be removed in a future version. Please adapt your code to use either `displot` (a figure-level function with similar flexibility) or `histplot` (an axes-level function for histograms).\n",
            "  warnings.warn(msg, FutureWarning)\n",
            "C:\\Users\\HP\\anaconda3\\lib\\site-packages\\seaborn\\distributions.py:2619: FutureWarning: `distplot` is a deprecated function and will be removed in a future version. Please adapt your code to use either `displot` (a figure-level function with similar flexibility) or `histplot` (an axes-level function for histograms).\n",
            "  warnings.warn(msg, FutureWarning)\n",
            "C:\\Users\\HP\\anaconda3\\lib\\site-packages\\seaborn\\distributions.py:2619: FutureWarning: `distplot` is a deprecated function and will be removed in a future version. Please adapt your code to use either `displot` (a figure-level function with similar flexibility) or `histplot` (an axes-level function for histograms).\n",
            "  warnings.warn(msg, FutureWarning)\n",
            "C:\\Users\\HP\\anaconda3\\lib\\site-packages\\seaborn\\distributions.py:2619: FutureWarning: `distplot` is a deprecated function and will be removed in a future version. Please adapt your code to use either `displot` (a figure-level function with similar flexibility) or `histplot` (an axes-level function for histograms).\n",
            "  warnings.warn(msg, FutureWarning)\n",
            "C:\\Users\\HP\\anaconda3\\lib\\site-packages\\seaborn\\distributions.py:2619: FutureWarning: `distplot` is a deprecated function and will be removed in a future version. Please adapt your code to use either `displot` (a figure-level function with similar flexibility) or `histplot` (an axes-level function for histograms).\n",
            "  warnings.warn(msg, FutureWarning)\n",
            "C:\\Users\\HP\\anaconda3\\lib\\site-packages\\seaborn\\distributions.py:2619: FutureWarning: `distplot` is a deprecated function and will be removed in a future version. Please adapt your code to use either `displot` (a figure-level function with similar flexibility) or `histplot` (an axes-level function for histograms).\n",
            "  warnings.warn(msg, FutureWarning)\n"
          ]
        },
        {
          "data": {
            "image/png": "[encoded data removed]",
            "text/plain": [
              "<Figure size 936x576 with 1 Axes>"
            ]
          },
          "metadata": {},
          "output_type": "display_data"
        }
      ],
      "source": [
        "plt.figure(figsize=(13,8))\n",
        "\n",
        "n = sample_size = 50 #set the number of samples equal to the size of each sample to simplify arguments passed in\n",
        "dict_samp_means = {}\n",
        "categories = df3.CategoryName.unique()\n",
        "\n",
        "sample_a = ct.bootstrap_sampling(n=n, pop=df3.Quantity, samp_size=sample_size, replace=True)\n",
        "sns.distplot(a=sample_a, label='Total sample means')\n",
        "\n",
        "dict_samp_means['pop_samp_means'] = sample_a\n",
        "for cat in categories:\n",
        "\n",
        "    sample_b = ct.bootstrap_sampling(n=n, pop=df3[df3.CategoryName==cat].Quantity, samp_size=sample_size, replace=True)\n",
        "    dict_samp_means[cat.replace(\" \", \"_\").replace('/','_')] = sample_b\n",
        "    \n",
        "    sns.distplot(a=sample_b, label=f'{cat} sample means')\n",
        "    \n",
        "plt.legend()\n",
        "plt.show()"
      ]
    },
    {
      "cell_type": "markdown",
      "source": [
        "Dari random sampling, terlihat bahwa data terdistribusi normal. Oleh karena itu akan diuji lagi hipotesisnya menggunakan Uji ANOVA."
      ],
      "metadata": {
        "id": "gOK138q9rHMR"
      }
    },
    {
      "cell_type": "code",
      "execution_count": null,
      "metadata": {
        "id": "TW5bn1Sdodei"
      },
      "outputs": [],
      "source": [
        "df_samp_means = pd.DataFrame.from_dict(dict_samp_means)"
      ]
    },
    {
      "cell_type": "code",
      "execution_count": null,
      "metadata": {
        "id": "hreRC1lVodei",
        "outputId": "1c2b38df-a910-491a-aa91-d02b36b07e2a"
      },
      "outputs": [
        {
          "data": {
            "text/html": [
              "<div>\n",
              "<style scoped>\n",
              "    .dataframe tbody tr th:only-of-type {\n",
              "        vertical-align: middle;\n",
              "    }\n",
              "\n",
              "    .dataframe tbody tr th {\n",
              "        vertical-align: top;\n",
              "    }\n",
              "\n",
              "    .dataframe thead th {\n",
              "        text-align: right;\n",
              "    }\n",
              "</style>\n",
              "<table border=\"1\" class=\"dataframe\">\n",
              "  <thead>\n",
              "    <tr style=\"text-align: right;\">\n",
              "      <th></th>\n",
              "      <th>sum_sq</th>\n",
              "      <th>df</th>\n",
              "      <th>F</th>\n",
              "      <th>PR(&gt;F)</th>\n",
              "      <th>reject_null</th>\n",
              "    </tr>\n",
              "  </thead>\n",
              "  <tbody>\n",
              "    <tr>\n",
              "      <th>Dairy_Products</th>\n",
              "      <td>21.062244</td>\n",
              "      <td>1.0</td>\n",
              "      <td>3.932351</td>\n",
              "      <td>0.054092</td>\n",
              "      <td>False</td>\n",
              "    </tr>\n",
              "    <tr>\n",
              "      <th>Meat_Poultry</th>\n",
              "      <td>33.364071</td>\n",
              "      <td>1.0</td>\n",
              "      <td>6.229119</td>\n",
              "      <td>0.016682</td>\n",
              "      <td>True</td>\n",
              "    </tr>\n",
              "    <tr>\n",
              "      <th>Grains_Cereals</th>\n",
              "      <td>4.020399</td>\n",
              "      <td>1.0</td>\n",
              "      <td>0.750614</td>\n",
              "      <td>0.391324</td>\n",
              "      <td>False</td>\n",
              "    </tr>\n",
              "    <tr>\n",
              "      <th>Beverages</th>\n",
              "      <td>7.522321</td>\n",
              "      <td>1.0</td>\n",
              "      <td>1.404428</td>\n",
              "      <td>0.242807</td>\n",
              "      <td>False</td>\n",
              "    </tr>\n",
              "    <tr>\n",
              "      <th>Confections</th>\n",
              "      <td>49.359907</td>\n",
              "      <td>1.0</td>\n",
              "      <td>9.215565</td>\n",
              "      <td>0.004157</td>\n",
              "      <td>True</td>\n",
              "    </tr>\n",
              "    <tr>\n",
              "      <th>Produce</th>\n",
              "      <td>1.135215</td>\n",
              "      <td>1.0</td>\n",
              "      <td>0.211946</td>\n",
              "      <td>0.647679</td>\n",
              "      <td>False</td>\n",
              "    </tr>\n",
              "    <tr>\n",
              "      <th>Seafood</th>\n",
              "      <td>11.060079</td>\n",
              "      <td>1.0</td>\n",
              "      <td>2.064933</td>\n",
              "      <td>0.158310</td>\n",
              "      <td>False</td>\n",
              "    </tr>\n",
              "    <tr>\n",
              "      <th>Condiments</th>\n",
              "      <td>14.357300</td>\n",
              "      <td>1.0</td>\n",
              "      <td>2.680528</td>\n",
              "      <td>0.109236</td>\n",
              "      <td>False</td>\n",
              "    </tr>\n",
              "    <tr>\n",
              "      <th>Residual</th>\n",
              "      <td>219.601975</td>\n",
              "      <td>41.0</td>\n",
              "      <td>NaN</td>\n",
              "      <td>NaN</td>\n",
              "      <td>False</td>\n",
              "    </tr>\n",
              "  </tbody>\n",
              "</table>\n",
              "</div>"
            ],
            "text/plain": [
              "                    sum_sq    df         F    PR(>F)  reject_null\n",
              "Dairy_Products   21.062244   1.0  3.932351  0.054092        False\n",
              "Meat_Poultry     33.364071   1.0  6.229119  0.016682         True\n",
              "Grains_Cereals    4.020399   1.0  0.750614  0.391324        False\n",
              "Beverages         7.522321   1.0  1.404428  0.242807        False\n",
              "Confections      49.359907   1.0  9.215565  0.004157         True\n",
              "Produce           1.135215   1.0  0.211946  0.647679        False\n",
              "Seafood          11.060079   1.0  2.064933  0.158310        False\n",
              "Condiments       14.357300   1.0  2.680528  0.109236        False\n",
              "Residual        219.601975  41.0       NaN       NaN        False"
            ]
          },
          "execution_count": 73,
          "metadata": {},
          "output_type": "execute_result"
        }
      ],
      "source": [
        "alpha = 0.05\n",
        "\n",
        "# ANOVA Test on region\n",
        "formula = f'pop_samp_means ~ Dairy_Products + Meat_Poultry + Grains_Cereals + Beverages + Confections + Produce + Seafood + Condiments'\n",
        "lm = ols(formula, dict_samp_means).fit()\n",
        "anova = sm.stats.anova_lm(lm, typ=2)\n",
        "anova['reject_null'] = anova['PR(>F)'] < alpha\n",
        "df_table = pd.DataFrame(anova)\n",
        "\n",
        "df_table"
      ]
    },
    {
      "cell_type": "markdown",
      "source": [
        "KESIMPULAN\n",
        "\n",
        "Berdasarkan uji ANOVA, tidak terdapat dampak yang signifikan antara kategori makanan dengan kuantitas pesanan terjual. Berdasarkan informasi ini, kita gagal menolak H0 sehingga Ha diterima. **Tidak ada perbedaan statistik signifikan antara kategori dengan kuantitas pesanan satu sama lain**"
      ],
      "metadata": {
        "id": "yRlAnTvNrTYb"
      }
    }
  ],
  "metadata": {
    "colab": {
      "collapsed_sections": [],
      "name": "Northwind Database Project.ipynb",
      "provenance": []
    },
    "kernelspec": {
      "display_name": "Python 3 (ipykernel)",
      "language": "python",
      "name": "python3"
    },
    "language_info": {
      "codemirror_mode": {
        "name": "ipython",
        "version": 3
      },
      "file_extension": ".py",
      "mimetype": "text/x-python",
      "name": "python",
      "nbconvert_exporter": "python",
      "pygments_lexer": "ipython3",
      "version": "3.9.7"
    }
  },
  "nbformat": 4,
  "nbformat_minor": 0
}